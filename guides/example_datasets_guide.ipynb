{
 "cells": [
  {
   "cell_type": "markdown",
   "metadata": {},
   "source": [
    "## ✨ Example Dataset Guide\n",
    "\n",
    "Relevance AI allows users to quickly get datasets!\n",
    "\n",
    "You can explore a list of available datasets using the function below.\n"
   ]
  },
  {
   "cell_type": "code",
   "execution_count": 6,
   "metadata": {},
   "outputs": [],
   "source": [
    "from relevanceai.utils import list_example_datasets"
   ]
  },
  {
   "cell_type": "code",
   "execution_count": 7,
   "metadata": {
    "scrolled": true
   },
   "outputs": [
    {
     "name": "stdout",
     "output_type": "stream",
     "text": [
      "Connecting to us-east-1...\n",
      "Welcome to RelevanceAI. Logged in as 3a4b969f4d5fae6f850e.\n"
     ]
    },
    {
     "data": {
      "text/plain": [
       "{'datasets': ['_cluster_reports',\n",
       "  '_mock_dataset2_',\n",
       "  '_mock_dataset_',\n",
       "  '_sample_test_dataset__ecom',\n",
       "  '_sample_test_dataset__iris',\n",
       "  '_sample_test_dataset__penguins',\n",
       "  '_test_sample_hdbscan',\n",
       "  'basic_subclustering',\n",
       "  'community-detection-test',\n",
       "  'dummy-coco',\n",
       "  'dummy-ecommerce',\n",
       "  'dummy-ecommerce-clean',\n",
       "  'dummy-flipkart',\n",
       "  'dummy-games-dataset',\n",
       "  'dummy-iris',\n",
       "  'dummy-mock_dataset',\n",
       "  'dummy-news',\n",
       "  'dummy-palmer-penguins',\n",
       "  'dummy-realestate',\n",
       "  'dummy-titanic',\n",
       "  'ecommerce-sample-dataset',\n",
       "  'ecommerce_1',\n",
       "  'ecommerce_2',\n",
       "  'ecommerce_3',\n",
       "  'faiss_kmeans_clustering',\n",
       "  'flipkart',\n",
       "  'game-reviews',\n",
       "  'games',\n",
       "  'games-review-long-text',\n",
       "  'games-review-long-text-chunk-flatten',\n",
       "  'iris',\n",
       "  'legal-effort',\n",
       "  'legal-effort-2',\n",
       "  'legal-work-codes',\n",
       "  'mock-ds',\n",
       "  'news',\n",
       "  'online_retail',\n",
       "  'palmers-penguins',\n",
       "  'pokedex',\n",
       "  'quickstart_aggregation',\n",
       "  'quickstart_auto_clustering_kmeans',\n",
       "  'quickstart_clip',\n",
       "  'quickstart_clustering_aggregation',\n",
       "  'quickstart_clustering_list_closest',\n",
       "  'quickstart_clustering_list_furthest',\n",
       "  'quickstart_clustering_metadata',\n",
       "  'quickstart_example_encoding',\n",
       "  'quickstart_kmeans_clustering',\n",
       "  'quickstart_multi_vector_search',\n",
       "  'quickstart_search',\n",
       "  'realestate',\n",
       "  'realestate2',\n",
       "  'realestate3',\n",
       "  'requested_read_key_storage',\n",
       "  'retail_reviews_large',\n",
       "  'retail_reviews_small',\n",
       "  'sample',\n",
       "  'test-vectorize',\n",
       "  'things_that_went_well',\n",
       "  'titanic',\n",
       "  'toy_image_caption_coco_image_encoded',\n",
       "  'workflows-data',\n",
       "  'workflows-recipes'],\n",
       " 'count': 63}"
      ]
     },
     "execution_count": 7,
     "metadata": {},
     "output_type": "execute_result"
    }
   ],
   "source": [
    "list_example_datasets()"
   ]
  },
  {
   "cell_type": "markdown",
   "metadata": {},
   "source": [
    "## Getting An Example Dataset\n",
    "\n",
    "You can retrieve a dataset using:"
   ]
  },
  {
   "cell_type": "code",
   "execution_count": 8,
   "metadata": {},
   "outputs": [
    {
     "name": "stdout",
     "output_type": "stream",
     "text": [
      "Connecting to us-east-1...\n",
      "Welcome to RelevanceAI. Logged in as 3a4b969f4d5fae6f850e.\n"
     ]
    },
    {
     "data": {
      "application/vnd.jupyter.widget-view+json": {
       "model_id": "5d230a0221764b998e7104ce3f45a209",
       "version_major": 2,
       "version_minor": 0
      },
      "text/plain": [
       "  0%|          | 0/1 [00:00<?, ?it/s]"
      ]
     },
     "metadata": {},
     "output_type": "display_data"
    }
   ],
   "source": [
    "from relevanceai.utils import example_documents\n",
    "\n",
    "docs = example_documents(\"dummy-coco\")"
   ]
  },
  {
   "cell_type": "markdown",
   "metadata": {},
   "source": [
    "# Inserting Into Your Dataset\n"
   ]
  },
  {
   "cell_type": "code",
   "execution_count": 10,
   "metadata": {},
   "outputs": [],
   "source": [
    "from relevanceai import Client \n",
    "client = Client()\n",
    "ds = client.Dataset(\"example-dataset\")\n",
    "ds.upsert_documents(docs)"
   ]
  },
  {
   "cell_type": "markdown",
   "metadata": {},
   "source": [
    "There you have it! Go forth and now insert as many example documents as you would like!"
   ]
  }
 ],
 "metadata": {
  "kernelspec": {
   "display_name": "Python 3 (ipykernel)",
   "language": "python",
   "name": "python3"
  },
  "language_info": {
   "codemirror_mode": {
    "name": "ipython",
    "version": 3
   },
   "file_extension": ".py",
   "mimetype": "text/x-python",
   "name": "python",
   "nbconvert_exporter": "python",
   "pygments_lexer": "ipython3",
   "version": "3.8.9"
  }
 },
 "nbformat": 4,
 "nbformat_minor": 2
}
