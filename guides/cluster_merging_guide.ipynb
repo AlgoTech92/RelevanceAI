{
 "cells": [
  {
   "cell_type": "code",
   "execution_count": 1,
   "metadata": {},
   "outputs": [],
   "source": [
    "from relevanceai import Client"
   ]
  },
  {
   "cell_type": "code",
   "execution_count": 2,
   "metadata": {},
   "outputs": [
    {
     "name": "stdout",
     "output_type": "stream",
     "text": [
      "Activation token (you can find it here: https://cloud.relevance.ai/sdk/api )\n",
      "\n",
      "Connecting to us-east-1...\n",
      "You can view all your datasets at https://cloud.relevance.ai/datasets/\n",
      "Welcome to RelevanceAI. Logged in as 59066979f4876d91beea.\n"
     ]
    }
   ],
   "source": [
    "client = Client()"
   ]
  },
  {
   "cell_type": "code",
   "execution_count": 3,
   "metadata": {},
   "outputs": [
    {
     "name": "stdout",
     "output_type": "stream",
     "text": [
      "while inserting, you can visit your dashboard at https://cloud.relevance.ai/dataset/iris/dashboard/monitor/\n",
      "✅ All documents inserted/edited successfully.\n"
     ]
    }
   ],
   "source": [
    "from relevanceai.utils.datasets import get_iris_dataset\n",
    "\n",
    "dataset = client.Dataset(\"iris\")\n",
    "\n",
    "documents = get_iris_dataset()\n",
    "\n",
    "dataset.insert_documents(documents, create_id=True)"
   ]
  },
  {
   "cell_type": "code",
   "execution_count": 4,
   "metadata": {},
   "outputs": [
    {
     "data": {
      "text/plain": [
       "{'PetalLengthCm': 'numeric',\n",
       " 'PetalWidthCm': 'numeric',\n",
       " 'SepalLengthCm': 'numeric',\n",
       " 'SepalWidthCm': 'numeric',\n",
       " 'Species': 'text',\n",
       " '_cluster_': 'dict',\n",
       " '_cluster_.feature_vector_': 'dict',\n",
       " '_cluster_.feature_vector_.kmeans-3': 'text',\n",
       " '_cluster_.feature_vector_.kmeans-6': 'text',\n",
       " 'feature_vector_': {'vector': 4},\n",
       " 'insert_date_': 'date'}"
      ]
     },
     "execution_count": 4,
     "metadata": {},
     "output_type": "execute_result"
    }
   ],
   "source": [
    "dataset.schema"
   ]
  },
  {
   "cell_type": "code",
   "execution_count": 5,
   "metadata": {},
   "outputs": [
    {
     "name": "stdout",
     "output_type": "stream",
     "text": [
      "📌 Your logs have been saved to iris_06-04-2022-14-25-53_pull_update_push.log. If you are debugging, you can turn file logging off by setting `log_to_file=False`.📌\n"
     ]
    }
   ],
   "source": [
    "dataset.cat(\"feature_vector_\", fields=list(dataset.schema)[:4])"
   ]
  },
  {
   "cell_type": "code",
   "execution_count": 6,
   "metadata": {},
   "outputs": [
    {
     "data": {
      "text/plain": [
       "{'PetalLengthCm': 'numeric',\n",
       " 'PetalWidthCm': 'numeric',\n",
       " 'SepalLengthCm': 'numeric',\n",
       " 'SepalWidthCm': 'numeric',\n",
       " 'Species': 'text',\n",
       " '_cluster_': 'dict',\n",
       " '_cluster_.feature_vector_': 'dict',\n",
       " '_cluster_.feature_vector_.kmeans-3': 'text',\n",
       " '_cluster_.feature_vector_.kmeans-6': 'text',\n",
       " 'feature_vector_': {'vector': 4},\n",
       " 'insert_date_': 'date'}"
      ]
     },
     "execution_count": 6,
     "metadata": {},
     "output_type": "execute_result"
    }
   ],
   "source": [
    "dataset.schema"
   ]
  },
  {
   "cell_type": "code",
   "execution_count": 7,
   "metadata": {},
   "outputs": [
    {
     "name": "stderr",
     "output_type": "stream",
     "text": [
      "100%|██████████| 1/1 [00:00<00:00,  1.38it/s]\n",
      "100%|██████████| 1/1 [00:01<00:00,  1.58s/it]\n"
     ]
    },
    {
     "name": "stdout",
     "output_type": "stream",
     "text": [
      "Build your clustering app here: https://cloud.relevance.ai/dataset/iris/deploy/recent/cluster/\n"
     ]
    }
   ],
   "source": [
    "dataset.cluster(model=\"kmeans\", n_clusters=6, vector_fields=[\"feature_vector_\"])"
   ]
  },
  {
   "cell_type": "code",
   "execution_count": 8,
   "metadata": {},
   "outputs": [
    {
     "name": "stdout",
     "output_type": "stream",
     "text": [
      "Response failed (https://api.us-east-1.relevance.ai/latest/datasets/iris/cluster/centroids/documents) (Status: 404 Response: {\"message\":\"No centroids were found for chosen vector fields and alias.\"})\n"
     ]
    },
    {
     "ename": "APIError",
     "evalue": "{\"message\":\"No centroids were found for chosen vector fields and alias.\"}",
     "output_type": "error",
     "traceback": [
      "\u001b[1;31m---------------------------------------------------------------------------\u001b[0m",
      "\u001b[1;31mAPIError\u001b[0m                                  Traceback (most recent call last)",
      "\u001b[1;32mc:\\Users\\Joseph\\Documents\\Jobs\\RELEVANCE AI\\RelevanceAI\\guides\\cluster_merging_guide.ipynb Cell 8'\u001b[0m in \u001b[0;36m<module>\u001b[1;34m\u001b[0m\n\u001b[0;32m      <a href='vscode-notebook-cell:/c%3A/Users/Joseph/Documents/Jobs/RELEVANCE%20AI/RelevanceAI/guides/cluster_merging_guide.ipynb#ch0000008?line=0'>1</a>\u001b[0m \u001b[39mfrom\u001b[39;00m \u001b[39mrelevanceai\u001b[39;00m \u001b[39mimport\u001b[39;00m ClusterOps\n\u001b[0;32m      <a href='vscode-notebook-cell:/c%3A/Users/Joseph/Documents/Jobs/RELEVANCE%20AI/RelevanceAI/guides/cluster_merging_guide.ipynb#ch0000008?line=2'>3</a>\u001b[0m ops \u001b[39m=\u001b[39m ClusterOps\u001b[39m.\u001b[39mfrom_dataset(dataset, alias\u001b[39m=\u001b[39m\u001b[39m\"\u001b[39m\u001b[39mkmeans-6\u001b[39m\u001b[39m\"\u001b[39m, vector_fields\u001b[39m=\u001b[39m[\u001b[39m\"\u001b[39m\u001b[39mfeature_vector_\u001b[39m\u001b[39m\"\u001b[39m])\n\u001b[1;32m----> <a href='vscode-notebook-cell:/c%3A/Users/Joseph/Documents/Jobs/RELEVANCE%20AI/RelevanceAI/guides/cluster_merging_guide.ipynb#ch0000008?line=4'>5</a>\u001b[0m ops\u001b[39m.\u001b[39;49mmerge(cluster_labels\u001b[39m=\u001b[39;49m(\u001b[39m1\u001b[39;49m, \u001b[39m3\u001b[39;49m), alias\u001b[39m=\u001b[39;49m\u001b[39m\"\u001b[39;49m\u001b[39mkmean-6\u001b[39;49m\u001b[39m\"\u001b[39;49m)\n",
      "File \u001b[1;32m~\\AppData\\Local\\Programs\\Python\\Python39\\lib\\site-packages\\relevanceai\\utils\\decorators\\analytics.py:116\u001b[0m, in \u001b[0;36mtrack.<locals>.wrapper\u001b[1;34m(*args, **kwargs)\u001b[0m\n\u001b[0;32m    <a href='file:///c%3A/Users/Joseph/AppData/Local/Programs/Python/Python39/lib/site-packages/relevanceai/utils/decorators/analytics.py?line=113'>114</a>\u001b[0m     \u001b[39mpass\u001b[39;00m\n\u001b[0;32m    <a href='file:///c%3A/Users/Joseph/AppData/Local/Programs/Python/Python39/lib/site-packages/relevanceai/utils/decorators/analytics.py?line=114'>115</a>\u001b[0m \u001b[39mtry\u001b[39;00m:\n\u001b[1;32m--> <a href='file:///c%3A/Users/Joseph/AppData/Local/Programs/Python/Python39/lib/site-packages/relevanceai/utils/decorators/analytics.py?line=115'>116</a>\u001b[0m     \u001b[39mreturn\u001b[39;00m func(\u001b[39m*\u001b[39margs, \u001b[39m*\u001b[39m\u001b[39m*\u001b[39mkwargs)\n\u001b[0;32m    <a href='file:///c%3A/Users/Joseph/AppData/Local/Programs/Python/Python39/lib/site-packages/relevanceai/utils/decorators/analytics.py?line=116'>117</a>\u001b[0m \u001b[39mfinally\u001b[39;00m:\n\u001b[0;32m    <a href='file:///c%3A/Users/Joseph/AppData/Local/Programs/Python/Python39/lib/site-packages/relevanceai/utils/decorators/analytics.py?line=117'>118</a>\u001b[0m     os\u001b[39m.\u001b[39menviron[TRANSIT_ENV_VAR] \u001b[39m=\u001b[39m \u001b[39m\"\u001b[39m\u001b[39mFALSE\u001b[39m\u001b[39m\"\u001b[39m\n",
      "File \u001b[1;32m~\\AppData\\Local\\Programs\\Python\\Python39\\lib\\site-packages\\relevanceai\\operations\\cluster\\cluster.py:768\u001b[0m, in \u001b[0;36mClusterOps.merge\u001b[1;34m(self, cluster_labels, alias, show_progress_bar)\u001b[0m\n\u001b[0;32m    <a href='file:///c%3A/Users/Joseph/AppData/Local/Programs/Python/Python39/lib/site-packages/relevanceai/operations/cluster/cluster.py?line=764'>765</a>\u001b[0m     alias \u001b[39m=\u001b[39m \u001b[39m\"\u001b[39m\u001b[39mcommunitydetection\u001b[39m\u001b[39m\"\u001b[39m\n\u001b[0;32m    <a href='file:///c%3A/Users/Joseph/AppData/Local/Programs/Python/Python39/lib/site-packages/relevanceai/operations/cluster/cluster.py?line=765'>766</a>\u001b[0m     \u001b[39mprint\u001b[39m(\u001b[39m\"\u001b[39m\u001b[39mNo alias given, assuming `communitydetection`\u001b[39m\u001b[39m\"\u001b[39m)\n\u001b[1;32m--> <a href='file:///c%3A/Users/Joseph/AppData/Local/Programs/Python/Python39/lib/site-packages/relevanceai/operations/cluster/cluster.py?line=767'>768</a>\u001b[0m centroid_documents \u001b[39m=\u001b[39m \u001b[39mself\u001b[39;49m\u001b[39m.\u001b[39;49mservices\u001b[39m.\u001b[39;49mcluster\u001b[39m.\u001b[39;49mcentroids\u001b[39m.\u001b[39;49mlist(\n\u001b[0;32m    <a href='file:///c%3A/Users/Joseph/AppData/Local/Programs/Python/Python39/lib/site-packages/relevanceai/operations/cluster/cluster.py?line=768'>769</a>\u001b[0m     dataset_id\u001b[39m=\u001b[39;49m\u001b[39mself\u001b[39;49m\u001b[39m.\u001b[39;49mdataset_id,\n\u001b[0;32m    <a href='file:///c%3A/Users/Joseph/AppData/Local/Programs/Python/Python39/lib/site-packages/relevanceai/operations/cluster/cluster.py?line=769'>770</a>\u001b[0m     vector_fields\u001b[39m=\u001b[39;49m[\u001b[39mself\u001b[39;49m\u001b[39m.\u001b[39;49mvector_field],\n\u001b[0;32m    <a href='file:///c%3A/Users/Joseph/AppData/Local/Programs/Python/Python39/lib/site-packages/relevanceai/operations/cluster/cluster.py?line=770'>771</a>\u001b[0m     alias\u001b[39m=\u001b[39;49malias,\n\u001b[0;32m    <a href='file:///c%3A/Users/Joseph/AppData/Local/Programs/Python/Python39/lib/site-packages/relevanceai/operations/cluster/cluster.py?line=771'>772</a>\u001b[0m )[\u001b[39m\"\u001b[39m\u001b[39mresults\u001b[39m\u001b[39m\"\u001b[39m]\n\u001b[0;32m    <a href='file:///c%3A/Users/Joseph/AppData/Local/Programs/Python/Python39/lib/site-packages/relevanceai/operations/cluster/cluster.py?line=773'>774</a>\u001b[0m relevant_centroids \u001b[39m=\u001b[39m [\n\u001b[0;32m    <a href='file:///c%3A/Users/Joseph/AppData/Local/Programs/Python/Python39/lib/site-packages/relevanceai/operations/cluster/cluster.py?line=774'>775</a>\u001b[0m     centroid[\u001b[39m\"\u001b[39m\u001b[39mcentroid_vector\u001b[39m\u001b[39m\"\u001b[39m]\n\u001b[0;32m    <a href='file:///c%3A/Users/Joseph/AppData/Local/Programs/Python/Python39/lib/site-packages/relevanceai/operations/cluster/cluster.py?line=775'>776</a>\u001b[0m     \u001b[39mfor\u001b[39;00m centroid \u001b[39min\u001b[39;00m centroid_documents\n\u001b[0;32m    <a href='file:///c%3A/Users/Joseph/AppData/Local/Programs/Python/Python39/lib/site-packages/relevanceai/operations/cluster/cluster.py?line=776'>777</a>\u001b[0m     \u001b[39mif\u001b[39;00m \u001b[39many\u001b[39m(\u001b[39mf\u001b[39m\u001b[39m\"\u001b[39m\u001b[39m-\u001b[39m\u001b[39m{\u001b[39;00mcluster\u001b[39m}\u001b[39;00m\u001b[39m\"\u001b[39m \u001b[39min\u001b[39;00m centroid[\u001b[39m\"\u001b[39m\u001b[39m_id\u001b[39m\u001b[39m\"\u001b[39m] \u001b[39mfor\u001b[39;00m cluster \u001b[39min\u001b[39;00m cluster_labels)\n\u001b[0;32m    <a href='file:///c%3A/Users/Joseph/AppData/Local/Programs/Python/Python39/lib/site-packages/relevanceai/operations/cluster/cluster.py?line=777'>778</a>\u001b[0m ]\n\u001b[0;32m    <a href='file:///c%3A/Users/Joseph/AppData/Local/Programs/Python/Python39/lib/site-packages/relevanceai/operations/cluster/cluster.py?line=778'>779</a>\u001b[0m new_centroid \u001b[39m=\u001b[39m np\u001b[39m.\u001b[39marray(relevant_centroids)\u001b[39m.\u001b[39mmean(\u001b[39m0\u001b[39m)\u001b[39m.\u001b[39mtolist()\n",
      "File \u001b[1;32m~\\AppData\\Local\\Programs\\Python\\Python39\\lib\\site-packages\\relevanceai\\_api\\endpoints\\services\\centroids.py:122\u001b[0m, in \u001b[0;36mCentroidsClient.list\u001b[1;34m(self, dataset_id, vector_fields, cluster_ids, alias, page_size, cursor, page, include_vector, similarity_metric)\u001b[0m\n\u001b[0;32m     <a href='file:///c%3A/Users/Joseph/AppData/Local/Programs/Python/Python39/lib/site-packages/relevanceai/_api/endpoints/services/centroids.py?line=94'>95</a>\u001b[0m \u001b[39m\"\"\"\u001b[39;00m\n\u001b[0;32m     <a href='file:///c%3A/Users/Joseph/AppData/Local/Programs/Python/Python39/lib/site-packages/relevanceai/_api/endpoints/services/centroids.py?line=95'>96</a>\u001b[0m \u001b[39mRetrieve the cluster centroids by IDs\u001b[39;00m\n\u001b[0;32m     <a href='file:///c%3A/Users/Joseph/AppData/Local/Programs/Python/Python39/lib/site-packages/relevanceai/_api/endpoints/services/centroids.py?line=96'>97</a>\u001b[0m \n\u001b[1;32m   (...)\u001b[0m\n\u001b[0;32m    <a href='file:///c%3A/Users/Joseph/AppData/Local/Programs/Python/Python39/lib/site-packages/relevanceai/_api/endpoints/services/centroids.py?line=117'>118</a>\u001b[0m \u001b[39m    Similarity Metric, choose from ['cosine', 'l1', 'l2', 'dp']\u001b[39;00m\n\u001b[0;32m    <a href='file:///c%3A/Users/Joseph/AppData/Local/Programs/Python/Python39/lib/site-packages/relevanceai/_api/endpoints/services/centroids.py?line=118'>119</a>\u001b[0m \u001b[39m\"\"\"\u001b[39;00m\n\u001b[0;32m    <a href='file:///c%3A/Users/Joseph/AppData/Local/Programs/Python/Python39/lib/site-packages/relevanceai/_api/endpoints/services/centroids.py?line=119'>120</a>\u001b[0m cluster_ids \u001b[39m=\u001b[39m [] \u001b[39mif\u001b[39;00m cluster_ids \u001b[39mis\u001b[39;00m \u001b[39mNone\u001b[39;00m \u001b[39melse\u001b[39;00m cluster_ids\n\u001b[1;32m--> <a href='file:///c%3A/Users/Joseph/AppData/Local/Programs/Python/Python39/lib/site-packages/relevanceai/_api/endpoints/services/centroids.py?line=121'>122</a>\u001b[0m \u001b[39mreturn\u001b[39;00m \u001b[39mself\u001b[39;49m\u001b[39m.\u001b[39;49mmake_http_request(\n\u001b[0;32m    <a href='file:///c%3A/Users/Joseph/AppData/Local/Programs/Python/Python39/lib/site-packages/relevanceai/_api/endpoints/services/centroids.py?line=122'>123</a>\u001b[0m     \u001b[39mf\u001b[39;49m\u001b[39m\"\u001b[39;49m\u001b[39m/datasets/\u001b[39;49m\u001b[39m{\u001b[39;49;00mdataset_id\u001b[39m}\u001b[39;49;00m\u001b[39m/cluster/centroids/documents\u001b[39;49m\u001b[39m\"\u001b[39;49m,\n\u001b[0;32m    <a href='file:///c%3A/Users/Joseph/AppData/Local/Programs/Python/Python39/lib/site-packages/relevanceai/_api/endpoints/services/centroids.py?line=123'>124</a>\u001b[0m     method\u001b[39m=\u001b[39;49m\u001b[39m\"\u001b[39;49m\u001b[39mPOST\u001b[39;49m\u001b[39m\"\u001b[39;49m,\n\u001b[0;32m    <a href='file:///c%3A/Users/Joseph/AppData/Local/Programs/Python/Python39/lib/site-packages/relevanceai/_api/endpoints/services/centroids.py?line=124'>125</a>\u001b[0m     parameters\u001b[39m=\u001b[39;49m{\n\u001b[0;32m    <a href='file:///c%3A/Users/Joseph/AppData/Local/Programs/Python/Python39/lib/site-packages/relevanceai/_api/endpoints/services/centroids.py?line=125'>126</a>\u001b[0m         \u001b[39m# \"dataset_id\": dataset_id,\u001b[39;49;00m\n\u001b[0;32m    <a href='file:///c%3A/Users/Joseph/AppData/Local/Programs/Python/Python39/lib/site-packages/relevanceai/_api/endpoints/services/centroids.py?line=126'>127</a>\u001b[0m         \u001b[39m\"\u001b[39;49m\u001b[39mcluster_ids\u001b[39;49m\u001b[39m\"\u001b[39;49m: cluster_ids,\n\u001b[0;32m    <a href='file:///c%3A/Users/Joseph/AppData/Local/Programs/Python/Python39/lib/site-packages/relevanceai/_api/endpoints/services/centroids.py?line=127'>128</a>\u001b[0m         \u001b[39m\"\u001b[39;49m\u001b[39mvector_fields\u001b[39;49m\u001b[39m\"\u001b[39;49m: vector_fields,\n\u001b[0;32m    <a href='file:///c%3A/Users/Joseph/AppData/Local/Programs/Python/Python39/lib/site-packages/relevanceai/_api/endpoints/services/centroids.py?line=128'>129</a>\u001b[0m         \u001b[39m\"\u001b[39;49m\u001b[39malias\u001b[39;49m\u001b[39m\"\u001b[39;49m: alias,\n\u001b[0;32m    <a href='file:///c%3A/Users/Joseph/AppData/Local/Programs/Python/Python39/lib/site-packages/relevanceai/_api/endpoints/services/centroids.py?line=129'>130</a>\u001b[0m         \u001b[39m\"\u001b[39;49m\u001b[39mpage_size\u001b[39;49m\u001b[39m\"\u001b[39;49m: page_size,\n\u001b[0;32m    <a href='file:///c%3A/Users/Joseph/AppData/Local/Programs/Python/Python39/lib/site-packages/relevanceai/_api/endpoints/services/centroids.py?line=130'>131</a>\u001b[0m         \u001b[39m\"\u001b[39;49m\u001b[39mcursor\u001b[39;49m\u001b[39m\"\u001b[39;49m: cursor,\n\u001b[0;32m    <a href='file:///c%3A/Users/Joseph/AppData/Local/Programs/Python/Python39/lib/site-packages/relevanceai/_api/endpoints/services/centroids.py?line=131'>132</a>\u001b[0m         \u001b[39m\"\u001b[39;49m\u001b[39mpage\u001b[39;49m\u001b[39m\"\u001b[39;49m: page,\n\u001b[0;32m    <a href='file:///c%3A/Users/Joseph/AppData/Local/Programs/Python/Python39/lib/site-packages/relevanceai/_api/endpoints/services/centroids.py?line=132'>133</a>\u001b[0m         \u001b[39m\"\u001b[39;49m\u001b[39minclude_vector\u001b[39;49m\u001b[39m\"\u001b[39;49m: include_vector,\n\u001b[0;32m    <a href='file:///c%3A/Users/Joseph/AppData/Local/Programs/Python/Python39/lib/site-packages/relevanceai/_api/endpoints/services/centroids.py?line=133'>134</a>\u001b[0m         \u001b[39m\"\u001b[39;49m\u001b[39msimilarity_metric\u001b[39;49m\u001b[39m\"\u001b[39;49m: similarity_metric,\n\u001b[0;32m    <a href='file:///c%3A/Users/Joseph/AppData/Local/Programs/Python/Python39/lib/site-packages/relevanceai/_api/endpoints/services/centroids.py?line=134'>135</a>\u001b[0m         \u001b[39m\"\u001b[39;49m\u001b[39mvector_field\u001b[39;49m\u001b[39m\"\u001b[39;49m: \u001b[39m\"\u001b[39;49m\u001b[39m\"\u001b[39;49m,\n\u001b[0;32m    <a href='file:///c%3A/Users/Joseph/AppData/Local/Programs/Python/Python39/lib/site-packages/relevanceai/_api/endpoints/services/centroids.py?line=135'>136</a>\u001b[0m     },\n\u001b[0;32m    <a href='file:///c%3A/Users/Joseph/AppData/Local/Programs/Python/Python39/lib/site-packages/relevanceai/_api/endpoints/services/centroids.py?line=136'>137</a>\u001b[0m )\n",
      "File \u001b[1;32m~\\AppData\\Local\\Programs\\Python\\Python39\\lib\\site-packages\\relevanceai\\utils\\transport.py:248\u001b[0m, in \u001b[0;36mTransport.make_http_request\u001b[1;34m(self, endpoint, method, parameters, base_url, output_format, raise_error)\u001b[0m\n\u001b[0;32m    <a href='file:///c%3A/Users/Joseph/AppData/Local/Programs/Python/Python39/lib/site-packages/relevanceai/utils/transport.py?line=240'>241</a>\u001b[0m     \u001b[39mself\u001b[39m\u001b[39m.\u001b[39m_log_response_fail(\n\u001b[0;32m    <a href='file:///c%3A/Users/Joseph/AppData/Local/Programs/Python/Python39/lib/site-packages/relevanceai/utils/transport.py?line=241'>242</a>\u001b[0m         base_url,\n\u001b[0;32m    <a href='file:///c%3A/Users/Joseph/AppData/Local/Programs/Python/Python39/lib/site-packages/relevanceai/utils/transport.py?line=242'>243</a>\u001b[0m         endpoint,\n\u001b[0;32m    <a href='file:///c%3A/Users/Joseph/AppData/Local/Programs/Python/Python39/lib/site-packages/relevanceai/utils/transport.py?line=243'>244</a>\u001b[0m         response\u001b[39m.\u001b[39mstatus_code,\n\u001b[0;32m    <a href='file:///c%3A/Users/Joseph/AppData/Local/Programs/Python/Python39/lib/site-packages/relevanceai/utils/transport.py?line=244'>245</a>\u001b[0m         response\u001b[39m.\u001b[39mcontent\u001b[39m.\u001b[39mdecode(),\n\u001b[0;32m    <a href='file:///c%3A/Users/Joseph/AppData/Local/Programs/Python/Python39/lib/site-packages/relevanceai/utils/transport.py?line=245'>246</a>\u001b[0m     )\n\u001b[0;32m    <a href='file:///c%3A/Users/Joseph/AppData/Local/Programs/Python/Python39/lib/site-packages/relevanceai/utils/transport.py?line=246'>247</a>\u001b[0m     \u001b[39mif\u001b[39;00m raise_error:\n\u001b[1;32m--> <a href='file:///c%3A/Users/Joseph/AppData/Local/Programs/Python/Python39/lib/site-packages/relevanceai/utils/transport.py?line=247'>248</a>\u001b[0m         \u001b[39mraise\u001b[39;00m APIError(response\u001b[39m.\u001b[39mcontent\u001b[39m.\u001b[39mdecode())\n\u001b[0;32m    <a href='file:///c%3A/Users/Joseph/AppData/Local/Programs/Python/Python39/lib/site-packages/relevanceai/utils/transport.py?line=249'>250</a>\u001b[0m \u001b[39m# Retry other errors\u001b[39;00m\n\u001b[0;32m    <a href='file:///c%3A/Users/Joseph/AppData/Local/Programs/Python/Python39/lib/site-packages/relevanceai/utils/transport.py?line=250'>251</a>\u001b[0m \u001b[39melse\u001b[39;00m:\n\u001b[0;32m    <a href='file:///c%3A/Users/Joseph/AppData/Local/Programs/Python/Python39/lib/site-packages/relevanceai/utils/transport.py?line=251'>252</a>\u001b[0m     \u001b[39mself\u001b[39m\u001b[39m.\u001b[39m_log_response_fail(\n\u001b[0;32m    <a href='file:///c%3A/Users/Joseph/AppData/Local/Programs/Python/Python39/lib/site-packages/relevanceai/utils/transport.py?line=252'>253</a>\u001b[0m         base_url,\n\u001b[0;32m    <a href='file:///c%3A/Users/Joseph/AppData/Local/Programs/Python/Python39/lib/site-packages/relevanceai/utils/transport.py?line=253'>254</a>\u001b[0m         endpoint,\n\u001b[0;32m    <a href='file:///c%3A/Users/Joseph/AppData/Local/Programs/Python/Python39/lib/site-packages/relevanceai/utils/transport.py?line=254'>255</a>\u001b[0m         response\u001b[39m.\u001b[39mstatus_code,\n\u001b[0;32m    <a href='file:///c%3A/Users/Joseph/AppData/Local/Programs/Python/Python39/lib/site-packages/relevanceai/utils/transport.py?line=255'>256</a>\u001b[0m         response\u001b[39m.\u001b[39mcontent\u001b[39m.\u001b[39mdecode(),\n\u001b[0;32m    <a href='file:///c%3A/Users/Joseph/AppData/Local/Programs/Python/Python39/lib/site-packages/relevanceai/utils/transport.py?line=256'>257</a>\u001b[0m     )\n",
      "\u001b[1;31mAPIError\u001b[0m: {\"message\":\"No centroids were found for chosen vector fields and alias.\"}"
     ]
    }
   ],
   "source": [
    "from relevanceai import ClusterOps\n",
    "\n",
    "ops = ClusterOps.from_dataset(dataset, alias=\"kmeans-6\", vector_fields=[\"feature_vector_\"])\n",
    "\n",
    "ops.merge(cluster_labels=(1, 3), alias=\"kmean-6\")"
   ]
  }
 ],
 "metadata": {
  "interpreter": {
   "hash": "58e44f17b68efb379cbe4d62d8eb29669d62251138374b19be04be7719564863"
  },
  "kernelspec": {
   "display_name": "Python 3.9.0 64-bit",
   "language": "python",
   "name": "python3"
  },
  "language_info": {
   "codemirror_mode": {
    "name": "ipython",
    "version": 3
   },
   "file_extension": ".py",
   "mimetype": "text/x-python",
   "name": "python",
   "nbconvert_exporter": "python",
   "pygments_lexer": "ipython3",
   "version": "3.9.0"
  },
  "orig_nbformat": 4
 },
 "nbformat": 4,
 "nbformat_minor": 2
}
