{
 "cells": [
  {
   "cell_type": "markdown",
   "metadata": {
    "id": "H2qgv-tuKlIp"
   },
   "source": [
    "# 🏃‍♀️ Quickstart"
   ]
  },
  {
   "cell_type": "markdown",
   "metadata": {},
   "source": [
    "Use [Relevance AI](https://cloud.relevance.ai/) for clustering and gaining meaning from your unstructured data."
   ]
  },
  {
   "cell_type": "markdown",
   "metadata": {
    "id": "Zc9VEsRwKlIp"
   },
   "source": [
    "## ✨ Example\n",
    "\n",
    "An example cluster app that showcases meaning amongst each group of unstructured data \n",
    "With just a few lines of code,\n",
    "you'll get rich, interactive, shareable dashboards [which you can see yourself here](https://i.gyazo.com/55a026bfe8e3becf06e7fceed4e146f2.png).\n",
    "![](https://i.gyazo.com/55a026bfe8e3becf06e7fceed4e146f2.png) "
   ]
  },
  {
   "cell_type": "markdown",
   "metadata": {
    "id": "aQAcOUAAKlIq"
   },
   "source": [
    "\n",
    "### 🔒 Data & Privacy\n",
    "\n",
    "We take security very seriously, and our cloud-hosted dashboard uses industry standard best practices for encryption. Our team adhere to our [strict privacy policy](https://relevance.ai/data-security-policy/).\n",
    "\n",
    "---"
   ]
  },
  {
   "cell_type": "markdown",
   "metadata": {
    "id": "FOrvGTECKlIq"
   },
   "source": [
    "### 🪄 Install `RelevanceAI` library and authenticate the client\n",
    "\n",
    "Start by installing the library and logging in to your account."
   ]
  },
  {
   "cell_type": "code",
   "execution_count": null,
   "metadata": {
    "colab": {
     "base_uri": "https://localhost:8080/"
    },
    "id": "wjRgB4HtKlIr",
    "outputId": "b04b0f9c-d1d2-4d9d-b4fb-7dbc8f121846"
   },
   "outputs": [],
   "source": [
    "!pip install RelevanceAI -qqq"
   ]
  },
  {
   "cell_type": "code",
   "execution_count": 1,
   "metadata": {},
   "outputs": [],
   "source": [
    "In [1]: %load_ext autoreload\n",
    "\n",
    "In [2]: %autoreload 2"
   ]
  },
  {
   "cell_type": "code",
   "execution_count": null,
   "metadata": {
    "colab": {
     "base_uri": "https://localhost:8080/"
    },
    "id": "HMFHYIruKlIs",
    "outputId": "6b25bf75-efdb-4a44-f4ea-5be2905e83b8"
   },
   "outputs": [],
   "source": [
    "from relevanceai import Client\n",
    "\n",
    "# Instantiate the client and authenticate\n",
    "client = Client()\n",
    "\n",
    "# This will prompt a link to collect your API token which includes your project and API key"
   ]
  },
  {
   "cell_type": "markdown",
   "metadata": {
    "id": "jOpyC6pxKlIs"
   },
   "source": [
    "### 📩 Upload Some Data\n",
    "1️⃣. Open a new **Dataset**\n",
    "\n",
    "2️⃣. **Insert** some documents"
   ]
  },
  {
   "cell_type": "code",
   "execution_count": 1,
   "metadata": {},
   "outputs": [],
   "source": [
    "from relevanceai.utils import example_documents\n",
    "\n",
    "documents = example_documents(\"retail_reviews_small\", number_of_documents=100)"
   ]
  },
  {
   "cell_type": "code",
   "execution_count": 3,
   "metadata": {
    "id": "s9OuYV0-KlIt"
   },
   "outputs": [],
   "source": [
    "dataset_id = \"retail_reviews\"  \n",
    "# The dataset name that we have decided, this can be whatever you want for your own data\n",
    "dataset = client.Dataset(dataset_id=dataset_id)  \n",
    "# Instantiate the dataset"
   ]
  },
  {
   "cell_type": "code",
   "execution_count": 5,
   "metadata": {},
   "outputs": [
    {
     "name": "stdout",
     "output_type": "stream",
     "text": [
      "while inserting, you can visit monitor the dataset at https://cloud.relevance.ai/dataset/retail_reviews/dashboard/monitor/\n",
      "✅ All documents inserted/edited successfully.\n"
     ]
    }
   ],
   "source": [
    "dataset.insert_documents(documents)"
   ]
  },
  {
   "cell_type": "markdown",
   "metadata": {},
   "source": [
    "You can view your dataset quickly using `dataset.head` just like in Pandas!"
   ]
  },
  {
   "cell_type": "code",
   "execution_count": 7,
   "metadata": {
    "scrolled": true
   },
   "outputs": [
    {
     "name": "stdout",
     "output_type": "stream",
     "text": [
      "https://cloud.relevance.ai/dataset/retail_reviews/dashboard/data?page=1\n"
     ]
    },
    {
     "data": {
      "text/html": [
       "<table border=\"1\" class=\"dataframe\">\n",
       "  <thead>\n",
       "    <tr style=\"text-align: right;\">\n",
       "      <th></th>\n",
       "      <th>Unnamed: 0</th>\n",
       "      <th>id</th>\n",
       "      <th>name</th>\n",
       "      <th>asins</th>\n",
       "      <th>brand</th>\n",
       "      <th>categories</th>\n",
       "      <th>keys</th>\n",
       "      <th>manufacturer</th>\n",
       "      <th>reviews.date</th>\n",
       "      <th>reviews.dateAdded</th>\n",
       "      <th>reviews.dateSeen</th>\n",
       "      <th>reviews.didPurchase</th>\n",
       "      <th>reviews.doRecommend</th>\n",
       "      <th>reviews.id</th>\n",
       "      <th>reviews.numHelpful</th>\n",
       "      <th>reviews.rating</th>\n",
       "      <th>reviews.sourceURLs</th>\n",
       "      <th>reviews.text</th>\n",
       "      <th>reviews.title</th>\n",
       "      <th>reviews.userCity</th>\n",
       "      <th>reviews.userProvince</th>\n",
       "      <th>reviews.username</th>\n",
       "      <th>insert_date_</th>\n",
       "      <th>_id</th>\n",
       "    </tr>\n",
       "  </thead>\n",
       "  <tbody>\n",
       "    <tr>\n",
       "      <th>0</th>\n",
       "      <td>1408</td>\n",
       "      <td>AVpjEN4jLJeJML43rpUe</td>\n",
       "      <td>Brand New Amazon Kindle Fire 16gb 7 Ips Display Tablet Wifi 16 Gb Blue,,,</td>\n",
       "      <td>B018Y225IA</td>\n",
       "      <td>Amazon</td>\n",
       "      <td>Computers/Tablets & Networking,Tablets & eBook Readers,Computers & Tablets,Tablets,All Tablets</td>\n",
       "      <td>841667103143,0841667103143,brandnewamazonkindlefire16gb7ipsdisplaytabletwifi16gbblue/5025500,brandnewamazonkindlefire16gb7ipsdisplaytabletwifi16gbblue/b018y225ia,brandnewamazonkindlefire16gb7ipsdisplaytabletwifi16gbblue/201625338826,brandnewamazonkindlefire16gb7ipsdisplaytabletwifi16gbblue/362123960192,amazon/b018y225ia</td>\n",
       "      <td>Amazon</td>\n",
       "      <td>2017-05-18T00:00:00.000Z</td>\n",
       "      <td>None</td>\n",
       "      <td>2017-08-27T00:00:00Z,2017-08-09T00:00:00Z,2017-06-07T00:00:00Z,2017-07-08T00:00:00Z,2017-08-06T00:00:00Z,2017-08-19T00:00:00Z</td>\n",
       "      <td>None</td>\n",
       "      <td>True</td>\n",
       "      <td>None</td>\n",
       "      <td>0</td>\n",
       "      <td>5</td>\n",
       "      <td>http://reviews.bestbuy.com/3545/5025500/reviews.htm?format=embedded&page=15,http://reviews.bestbuy.com/3545/5025500/reviews.htm?format=embedded&page=14,http://reviews.bestbuy.com/3545/5025500/reviews.htm?format=embedded&page=3,http://reviews.bestbuy.com/3545/5025500/reviews.htm?format=embedded&page=11</td>\n",
       "      <td>I bought this for my daughter for Christmas. I could set her as a user and make it safe for her age. I downloaded books and apps with ease. I'm glad that she is loving her Fire.</td>\n",
       "      <td>Amazon Fire</td>\n",
       "      <td>None</td>\n",
       "      <td>None</td>\n",
       "      <td>Renessa14</td>\n",
       "      <td>2022-06-07T01:32:23.307Z</td>\n",
       "      <td>00003142-ef66-39df-a84a-2f652c4c3e1c</td>\n",
       "    </tr>\n",
       "    <tr>\n",
       "      <th>1</th>\n",
       "      <td>563</td>\n",
       "      <td>AVphgVaX1cnluZ0-DR74</td>\n",
       "      <td>Fire Tablet, 7 Display, Wi-Fi, 8 GB - Includes Special Offers, Magenta</td>\n",
       "      <td>B018Y229OU</td>\n",
       "      <td>Amazon</td>\n",
       "      <td>Fire Tablets,Tablets,Computers & Tablets,All Tablets,Electronics, Tech Toys, Movies, Music,Electronics,iPad & Tablets,Android Tablets,Frys</td>\n",
       "      <td>firetablet7displaywifi8gbincludesspecialoffersmagenta/5025800,841667103105,0841667103105,amazon/b018y229ou,firetablet7displaywifi8gbincludesspecialoffersmagenta/b018y229ou</td>\n",
       "      <td>Amazon</td>\n",
       "      <td>2016-04-16T00:00:00.000Z</td>\n",
       "      <td>2017-05-21T01:18:21Z</td>\n",
       "      <td>2017-04-30T00:08:00.000Z,2017-06-07T08:18:00.000Z</td>\n",
       "      <td>None</td>\n",
       "      <td>True</td>\n",
       "      <td>None</td>\n",
       "      <td>1</td>\n",
       "      <td>5</td>\n",
       "      <td>http://reviews.bestbuy.com/3545/5025800/reviews.htm?format=embedded&page=767,http://reviews.bestbuy.com/3545/5025800/reviews.htm?format=embedded&page=800</td>\n",
       "      <td>This was a gift for a senior citizen that is not a fan of computers and technology. After just a few minutes of instruction she picked right up on how much fun she could have with her down loaded games and she also learned how to reach out on the internet for information on subjects that interest her. She is very happy with her gift!</td>\n",
       "      <td>Great tablet for first time user</td>\n",
       "      <td>None</td>\n",
       "      <td>None</td>\n",
       "      <td>donfield</td>\n",
       "      <td>2022-06-07T01:32:23.307Z</td>\n",
       "      <td>00088906-e56b-3507-8300-d9205d0bee23</td>\n",
       "    </tr>\n",
       "    <tr>\n",
       "      <th>2</th>\n",
       "      <td>313</td>\n",
       "      <td>AVphgVaX1cnluZ0-DR74</td>\n",
       "      <td>Fire Tablet, 7 Display, Wi-Fi, 8 GB - Includes Special Offers, Magenta</td>\n",
       "      <td>B018Y229OU</td>\n",
       "      <td>Amazon</td>\n",
       "      <td>Fire Tablets,Tablets,Computers & Tablets,All Tablets,Electronics, Tech Toys, Movies, Music,Electronics,iPad & Tablets,Android Tablets,Frys</td>\n",
       "      <td>firetablet7displaywifi8gbincludesspecialoffersmagenta/5025800,841667103105,0841667103105,amazon/b018y229ou,firetablet7displaywifi8gbincludesspecialoffersmagenta/b018y229ou</td>\n",
       "      <td>Amazon</td>\n",
       "      <td>2016-01-08T00:00:00.000Z</td>\n",
       "      <td>2017-05-21T02:00:31Z</td>\n",
       "      <td>2017-04-30T00:14:00.000Z,2017-06-07T08:13:00.000Z</td>\n",
       "      <td>None</td>\n",
       "      <td>True</td>\n",
       "      <td>None</td>\n",
       "      <td>0</td>\n",
       "      <td>4</td>\n",
       "      <td>http://reviews.bestbuy.com/3545/5025800/reviews.htm?format=embedded&page=1049,http://reviews.bestbuy.com/3545/5025800/reviews.htm?format=embedded&page=1083</td>\n",
       "      <td>NICE TABLET, BUT IT WANTS YOU TO PUT ALL YOUR BILLING INFORMATION IN AND A CREDIT CARD TO DO ALL PURCHASES. IS A HASSLE TO PULL UP PROGRAMS BECAUSE OF THIS. GOOD FOR A CHILD.</td>\n",
       "      <td>NICE TABLET FOR CHILDREN</td>\n",
       "      <td>None</td>\n",
       "      <td>None</td>\n",
       "      <td>FASTJAKE</td>\n",
       "      <td>2022-06-07T01:32:23.307Z</td>\n",
       "      <td>0012542b-3e5a-31e5-9cf3-0100f64666ae</td>\n",
       "    </tr>\n",
       "    <tr>\n",
       "      <th>3</th>\n",
       "      <td>4752</td>\n",
       "      <td>AVpfl8cLLJeJML43AE3S</td>\n",
       "      <td>Amazon Fire Tv,,,\\r\\nAmazon Fire Tv,,,</td>\n",
       "      <td>B00L9EPT8O,B01E6AO69U</td>\n",
       "      <td>Amazon</td>\n",
       "      <td>Stereos,Remote Controls,Amazon Echo,Audio Docks & Mini Speakers,Amazon Echo Accessories,Kitchen & Dining Features,Speaker Systems,Electronics,TVs Entertainment,Clearance,Smart Hubs & Wireless Routers,Featured Brands,Wireless Speakers,Smart Home & Connected Living,Home Security,Kindle Store,Home Automation,Home, Garage & Office,Home,Voice-Enabled Smart Assistants,Virtual Assistant Speakers,Portable Audio & Headphones,Electronics Features,Amazon Device Accessories,iPod, Audio Player Accessories,Home & Furniture Clearance,Consumer Electronics,Smart Home,Surveillance,Home Improvement,Smart Home & Home Automation Devices,Smart Hubs,Home Safety & Security,Voice Assistants,Alarms & Sensors,Amazon Devices,Audio,Holiday Shop</td>\n",
       "      <td>echowhite/263039693056,echowhite/152558276095,echowhite/292178880467,echowhite/222588935706,echowhite/253120140398,echowhite/322577436254,echowhite/122597356284,echowhite/132263972952,echowhite/322586415668,echowhite/152626395386,echowhite/272724680159,echowhite/222587602421,echowhite/122474318097,echowhite/5588528,echowhite/112567699636,echowhite/272768463386,echowhite/332175902683,echowhite/311908601694,echowhite/292041139369,echowhite/192239032596,echowhite/272768869474,0841667112862,echowhite/222507973621,echowhite/112391858963,echowhite/291992370210,echowhite/b00l9ept8o,echowhite/112480241614,echowhite/b01e6ao69u,echowhite/322589755316,echowhite/322574315372,echowhite/253051886606,echowhite/382165760287,echowhite/222582493180,echowhite/282581384521,echowhite/112479310908,echowhite/302201691992,echowhite/201761456849,echowhite/amechow2k,echowhite/132262816901,echowhite/282571823011,echowhite/322511136772,841667112862,echowhite/232407174148,echowhite/322441917397,echowhite/amechow,echowhite/332296207643,echowhite/152610914446,echowhite/222578584785,echowhite/162591117080,echowhite/162593787621,echowhite/232407374203,echowhite/162595518416,echowhite/152623638099,amazon/b01e6ao69u</td>\n",
       "      <td>Amazon</td>\n",
       "      <td>2016-07-15T00:00:00.000Z</td>\n",
       "      <td>None</td>\n",
       "      <td>2017-09-28T00:00:00Z,2017-09-08T00:00:00Z,2017-09-12T00:00:00Z,2017-08-31T00:00:00Z,2017-08-08T00:00:00Z,2017-08-15T00:00:00Z,2017-08-01T00:00:00Z</td>\n",
       "      <td>None</td>\n",
       "      <td>True</td>\n",
       "      <td>None</td>\n",
       "      <td>0</td>\n",
       "      <td>5</td>\n",
       "      <td>http://reviews.bestbuy.com/3545/5588528/reviews.htm?format=embedded&page=775,http://reviews.bestbuy.com/3545/5588528/reviews.htm?format=embedded&page=702,http://reviews.bestbuy.com/3545/5588528/reviews.htm?format=embedded&page=706,http://reviews.bestbuy.com/3545/5588528/reviews.htm?format=embedded&page=676,http://reviews.bestbuy.com/3545/5588528/reviews.htm?format=embedded&page=608,http://reviews.bestbuy.com/3545/5588528/reviews.htm?format=embedded&page=615,http://reviews.bestbuy.com/3545/5588528/reviews.htm?format=embedded&page=600</td>\n",
       "      <td>Echo is amazing still learning more things,great product</td>\n",
       "      <td>It's great</td>\n",
       "      <td>None</td>\n",
       "      <td>None</td>\n",
       "      <td>Igotit</td>\n",
       "      <td>2022-06-07T01:32:23.307Z</td>\n",
       "      <td>00151c99-bf82-312d-adad-d981019ba47b</td>\n",
       "    </tr>\n",
       "    <tr>\n",
       "      <th>4</th>\n",
       "      <td>1927</td>\n",
       "      <td>AVphgVaX1cnluZ0-DR74</td>\n",
       "      <td>Fire Tablet, 7 Display, Wi-Fi, 8 GB - Includes Special Offers, Magenta</td>\n",
       "      <td>B018Y229OU</td>\n",
       "      <td>Amazon</td>\n",
       "      <td>Fire Tablets,Tablets,Computers & Tablets,All Tablets,Electronics, Tech Toys, Movies, Music,Electronics,iPad & Tablets,Android Tablets,Frys</td>\n",
       "      <td>firetablet7displaywifi8gbincludesspecialoffersmagenta/5025800,841667103105,0841667103105,amazon/b018y229ou,firetablet7displaywifi8gbincludesspecialoffersmagenta/b018y229ou</td>\n",
       "      <td>Amazon</td>\n",
       "      <td>2016-01-22T00:00:00.000Z</td>\n",
       "      <td>2017-05-21T02:29:02Z</td>\n",
       "      <td>2017-04-30T00:18:00.000Z,2017-06-07T08:13:00.000Z</td>\n",
       "      <td>None</td>\n",
       "      <td>True</td>\n",
       "      <td>None</td>\n",
       "      <td>0</td>\n",
       "      <td>5</td>\n",
       "      <td>http://reviews.bestbuy.com/3545/5025800/reviews.htm?format=embedded&page=925,http://reviews.bestbuy.com/3545/5025800/reviews.htm?format=embedded&page=959</td>\n",
       "      <td>Exceeded my expectations would recommend to anyone who wants a good tablet for a good price.</td>\n",
       "      <td>Well worth it</td>\n",
       "      <td>None</td>\n",
       "      <td>None</td>\n",
       "      <td>Anice183</td>\n",
       "      <td>2022-06-07T01:32:23.307Z</td>\n",
       "      <td>0017e388-76b4-3c72-beb4-5e6ceece824e</td>\n",
       "    </tr>\n",
       "  </tbody>\n",
       "</table>"
      ],
      "text/plain": [
       "<IPython.core.display.HTML object>"
      ]
     },
     "execution_count": 7,
     "metadata": {},
     "output_type": "execute_result"
    }
   ],
   "source": [
    "dataset.head()"
   ]
  },
  {
   "cell_type": "markdown",
   "metadata": {
    "id": "PcJyoIctKlIu"
   },
   "source": [
    "## 👨‍🔬 Vectorizing\n",
    "\n",
    "💪 In order to better visualise clusters within our data, we must vectorise the unstructured fields in a our clusters. In this dataset, there are two important text fields, both located in the review body; These are the `reviews.text` and `reviews.title`. For the purposes of this tutorial, we will be vectorizing `reviews.text` only."
   ]
  },
  {
   "cell_type": "markdown",
   "metadata": {
    "id": "rBBEjtPWrVK1"
   },
   "source": [
    "### 🤔 Choosing a Vectorizer\n",
    "\n",
    "An important part of vectorizing text is around choosing which vectorizer to use. Relevance AI allows for a custom vectorizer from vectorhub, but if you can't decide, the default models for each type of unstructured data are listed below.\n",
    "\n",
    "- Text: `USE2Vec`\n",
    "- Images: `Clip2Vec`"
   ]
  },
  {
   "cell_type": "markdown",
   "metadata": {
    "id": "hLQAczgTz3uI"
   },
   "source": [
    "First we install the suite of vectorizers from vectorhub"
   ]
  },
  {
   "cell_type": "code",
   "execution_count": 9,
   "metadata": {
    "id": "ZZFMVNixz1Is"
   },
   "outputs": [],
   "source": [
    "# !pip install vectorhub[encoders-text-tfhub] -qqq"
   ]
  },
  {
   "cell_type": "markdown",
   "metadata": {
    "id": "qBwgMjFlKlIu"
   },
   "source": [
    "### 🤩 Vectorize in one line\n",
    "\n",
    "We support vectorizing text in just 1 line."
   ]
  },
  {
   "cell_type": "code",
   "execution_count": null,
   "metadata": {
    "colab": {
     "base_uri": "https://localhost:8080/",
     "height": 122,
     "referenced_widgets": [
      "f4a24e8bc8b24b0e9c6b8a1357a1361a",
      "8b0cb06d8d194377a27bca9916691121",
      "1490f2bd27d843e098d74d9107d5d74a",
      "cd023e3749c846479b143064a2bcc373",
      "8c776fa8a51545e781ce806d628899bb",
      "0705feb3d82940b1a3f8beed2b483811",
      "58989990c6f5494099d46515fbd7979f",
      "e2ea1bbf08dd44dea383ff82ef761ae4",
      "a533bb16edec47e6b5d52c78e03b1ac2",
      "410557bd0aeb4ff79f205beb3ba6edd1",
      "a729afbe776649199cbe0a9607ea309f"
     ]
    },
    "id": "vJ_vRaT1KlIv",
    "outputId": "0a6ae38a-d16c-4bfe-8335-27d6bc962d1d"
   },
   "outputs": [],
   "source": [
    "# The text fields here are the ones we wish to construct vector representations for\n",
    "text_fields = [\"reviews.text\"]\n",
    "dataset.vectorize_text(fields=text_fields)"
   ]
  },
  {
   "cell_type": "markdown",
   "metadata": {
    "id": "hmicpLbkKlIw"
   },
   "source": [
    "## ✨ Cluster Application\n",
    "\n",
    "In one line of code, we can create a cluster application based on our new vector field. This application is how we will discover insights about the semantic groups in our data."
   ]
  },
  {
   "cell_type": "markdown",
   "metadata": {
    "id": "pQ6Q1KxgQB2h"
   },
   "source": [
    "### 🤔 Choosing the Number of Clusters\n",
    "\n",
    "Most clustering algorithms require you choose the number clusters you wish to find. This can be tricky if you don't know what the expect. Luckily, RelevanceAI uses a clustering algorithm called community detection that does not require the number of clusters to be set. Instead, the algorithm will decide how many is right for you. To discover more about other clustering methods, [read here](https://relevanceai.readthedocs.io/en/latest/relevanceai.cluster_report.html)"
   ]
  },
  {
   "cell_type": "markdown",
   "metadata": {},
   "source": [
    "First, let us see what vector fields are availbale in the dataset."
   ]
  },
  {
   "cell_type": "code",
   "execution_count": 11,
   "metadata": {},
   "outputs": [
    {
     "data": {
      "text/plain": [
       "['reviews.text_all-mpnet-base-v2_vector_']"
      ]
     },
     "execution_count": 11,
     "metadata": {},
     "output_type": "execute_result"
    }
   ],
   "source": [
    "dataset.list_vector_fields()"
   ]
  },
  {
   "cell_type": "code",
   "execution_count": 1,
   "metadata": {
    "colab": {
     "base_uri": "https://localhost:8080/",
     "height": 158,
     "referenced_widgets": [
      "0167e38fc2684ee987ffb2c1e4e7c888",
      "a23863abcd9244628dae9c2a1bc9993e",
      "b02ee32b9f1a4b6a9cbb9d3dd3b937ff",
      "29ee73b9979742af90d1de0fb137dd4a",
      "5c13879d8f344127b64af1aa7a4f8852",
      "c30c78865c1640d7af3df2d517a402d9",
      "88c66b03f74d4072a7ca2702cde5bab1",
      "fed1fcc4a7b4411dac5ca7f03d2e2828",
      "337acdd25f4b4d658b9f08e310774379",
      "2b3e5b0d4a614498a2893f43e3fb0788",
      "280dc66a8c1a497bab17355146717d62"
     ]
    },
    "id": "mebNH7SqKlIx",
    "outputId": "799dc229-ba88-4692-b733-6d88f9ac2523"
   },
   "outputs": [],
   "source": [
    "model = \"kmeans\"\n",
    "number_of_clusters = 20\n",
    "alias = \"my_clustering\"\n",
    "vector_fields = dataset.list_vector_fields()\n",
    "dataset.cluster(vector_fields=vector_fields, model=model, alias=alias)"
   ]
  },
  {
   "cell_type": "markdown",
   "metadata": {
    "id": "3DGPKr071QQQ"
   },
   "source": [
    "### 🔗 The above step will produce a link to your first cluster app!\n",
    "\n",
    "Click the link provided to view your newly generated clusters in a [dashboard app](https://cloud.relevance.ai/dataset/retail_reviews/deploy/cluster/59066979f4876d91beea/QVdEaHJuOEJ5Qy1VVnVsVDhndjM6eG9HaVg2RGtTTUdWNXFFQjNhZUg0QQ/LZpGq38B8_iiYmskWDEn/us-east-1/) ![](https://i.gyazo.com/55a026bfe8e3becf06e7fceed4e146f2.png)"
   ]
  },
  {
   "cell_type": "markdown",
   "metadata": {},
   "source": [
    "## Search Application\n",
    "\n",
    "You can also build a search application in just 1 line of code.\n",
    "\n",
    "This search application can be built by using"
   ]
  },
  {
   "cell_type": "code",
   "execution_count": 4,
   "metadata": {},
   "outputs": [
    {
     "name": "stdout",
     "output_type": "stream",
     "text": [
      "https://cloud.relevance.ai/dataset/retail_reviews/deploy/recent/search\n"
     ]
    }
   ],
   "source": [
    "dataset.launch_search_app()"
   ]
  },
  {
   "cell_type": "markdown",
   "metadata": {},
   "source": [
    "You can view an example of our text search below."
   ]
  },
  {
   "cell_type": "markdown",
   "metadata": {},
   "source": [
    "![Text Search](text-search-gif.gif)"
   ]
  },
  {
   "cell_type": "markdown",
   "metadata": {},
   "source": [
    "## 🌹 Extract Sentiment\n",
    "\n",
    "You can add sentiment to your dataset. After adding sentiment"
   ]
  },
  {
   "cell_type": "code",
   "execution_count": null,
   "metadata": {},
   "outputs": [],
   "source": [
    "dataset.extract_sentiment(text_fields=[\"reviews.text\"]"
   ]
  },
  {
   "cell_type": "markdown",
   "metadata": {},
   "source": [
    "## 🏷️ Add Labels To Your Dataset"
   ]
  },
  {
   "cell_type": "markdown",
   "metadata": {},
   "source": [
    "Labelling refers to when you apply a vector search from one tag to another."
   ]
  },
  {
   "cell_type": "code",
   "execution_count": 21,
   "metadata": {},
   "outputs": [],
   "source": [
    "labels = [{\"label\": \"Furniture\", \"label\": \"Home office\", \"label\": \"Electronics\"}]"
   ]
  },
  {
   "cell_type": "code",
   "execution_count": 50,
   "metadata": {},
   "outputs": [
    {
     "name": "stdout",
     "output_type": "stream",
     "text": [
      "while inserting, you can visit monitor the dataset at https://cloud.relevance.ai/dataset/retail-label/dashboard/monitor/\n",
      "✅ All documents inserted/edited successfully.\n"
     ]
    }
   ],
   "source": [
    "label_dataset.insert_documents(labels)"
   ]
  },
  {
   "cell_type": "code",
   "execution_count": null,
   "metadata": {},
   "outputs": [],
   "source": [
    "# Vectorize like you would with a normal dataset\n",
    "label_dataset.vectorize_text(\n",
    "    fields=['label'], \n",
    "    output_fields=[\"label_vector_\"]\n",
    ")"
   ]
  },
  {
   "cell_type": "code",
   "execution_count": null,
   "metadata": {},
   "outputs": [],
   "source": [
    "dataset.label_from_dataset(\n",
    "    vector_fields=dataset.list_vector_fields(), \n",
    "    label_dataset=label_dataset\n",
    ")"
   ]
  },
  {
   "attachments": {
    "image.png": {
     "image/png": "[encoded data removed]"
    }
   },
   "cell_type": "markdown",
   "metadata": {},
   "source": [
    "You can now see the labels on your dataset on Relevance AI.\n",
    "\n",
    "![image.png](attachment:image.png)"
   ]
  },
  {
   "cell_type": "markdown",
   "metadata": {},
   "source": [
    "\n",
    "\n",
    "Want to quickly create some example applications with Relevance AI? Check out some other guides below!\n",
    "- [Text-to-image search with OpenAI's CLIP](https://docs.relevance.ai/docs/quickstart-text-to-image-search)\n",
    "- [Hybrid Text search with Universal Sentence Encoder using Vectorhub](https://docs.relevance.ai/docs/quickstart-text-search)\n",
    "- [Text search with Universal Sentence Encoder Question Answer from Google](https://docs.relevance.ai/docs/quickstart-question-answering)"
   ]
  }
 ],
 "metadata": {
  "accelerator": "GPU",
  "colab": {
   "collapsed_sections": [],
   "name": "Intro to Relevance  AI",
   "provenance": []
  },
  "kernelspec": {
   "display_name": "Python 3 (ipykernel)",
   "language": "python",
   "name": "python3"
  },
  "language_info": {
   "codemirror_mode": {
    "name": "ipython",
    "version": 3
   },
   "file_extension": ".py",
   "mimetype": "text/x-python",
   "name": "python",
   "nbconvert_exporter": "python",
   "pygments_lexer": "ipython3",
   "version": "3.8.9"
  },
  "widgets": {
   "application/vnd.jupyter.widget-state+json": {
    "0167e38fc2684ee987ffb2c1e4e7c888": {
     "model_module": "@jupyter-widgets/controls",
     "model_module_version": "1.5.0",
     "model_name": "HBoxModel",
     "state": {
      "_dom_classes": [],
      "_model_module": "@jupyter-widgets/controls",
      "_model_module_version": "1.5.0",
      "_model_name": "HBoxModel",
      "_view_count": null,
      "_view_module": "@jupyter-widgets/controls",
      "_view_module_version": "1.5.0",
      "_view_name": "HBoxView",
      "box_style": "",
      "children": [
       "IPY_MODEL_a23863abcd9244628dae9c2a1bc9993e",
       "IPY_MODEL_b02ee32b9f1a4b6a9cbb9d3dd3b937ff",
       "IPY_MODEL_29ee73b9979742af90d1de0fb137dd4a"
      ],
      "layout": "IPY_MODEL_5c13879d8f344127b64af1aa7a4f8852"
     }
    },
    "0705feb3d82940b1a3f8beed2b483811": {
     "model_module": "@jupyter-widgets/base",
     "model_module_version": "1.2.0",
     "model_name": "LayoutModel",
     "state": {
      "_model_module": "@jupyter-widgets/base",
      "_model_module_version": "1.2.0",
      "_model_name": "LayoutModel",
      "_view_count": null,
      "_view_module": "@jupyter-widgets/base",
      "_view_module_version": "1.2.0",
      "_view_name": "LayoutView",
      "align_content": null,
      "align_items": null,
      "align_self": null,
      "border": null,
      "bottom": null,
      "display": null,
      "flex": null,
      "flex_flow": null,
      "grid_area": null,
      "grid_auto_columns": null,
      "grid_auto_flow": null,
      "grid_auto_rows": null,
      "grid_column": null,
      "grid_gap": null,
      "grid_row": null,
      "grid_template_areas": null,
      "grid_template_columns": null,
      "grid_template_rows": null,
      "height": null,
      "justify_content": null,
      "justify_items": null,
      "left": null,
      "margin": null,
      "max_height": null,
      "max_width": null,
      "min_height": null,
      "min_width": null,
      "object_fit": null,
      "object_position": null,
      "order": null,
      "overflow": null,
      "overflow_x": null,
      "overflow_y": null,
      "padding": null,
      "right": null,
      "top": null,
      "visibility": null,
      "width": null
     }
    },
    "1490f2bd27d843e098d74d9107d5d74a": {
     "model_module": "@jupyter-widgets/controls",
     "model_module_version": "1.5.0",
     "model_name": "FloatProgressModel",
     "state": {
      "_dom_classes": [],
      "_model_module": "@jupyter-widgets/controls",
      "_model_module_version": "1.5.0",
      "_model_name": "FloatProgressModel",
      "_view_count": null,
      "_view_module": "@jupyter-widgets/controls",
      "_view_module_version": "1.5.0",
      "_view_name": "ProgressView",
      "bar_style": "success",
      "description": "",
      "description_tooltip": null,
      "layout": "IPY_MODEL_e2ea1bbf08dd44dea383ff82ef761ae4",
      "max": 50,
      "min": 0,
      "orientation": "horizontal",
      "style": "IPY_MODEL_a533bb16edec47e6b5d52c78e03b1ac2",
      "value": 50
     }
    },
    "280dc66a8c1a497bab17355146717d62": {
     "model_module": "@jupyter-widgets/controls",
     "model_module_version": "1.5.0",
     "model_name": "DescriptionStyleModel",
     "state": {
      "_model_module": "@jupyter-widgets/controls",
      "_model_module_version": "1.5.0",
      "_model_name": "DescriptionStyleModel",
      "_view_count": null,
      "_view_module": "@jupyter-widgets/base",
      "_view_module_version": "1.2.0",
      "_view_name": "StyleView",
      "description_width": ""
     }
    },
    "29ee73b9979742af90d1de0fb137dd4a": {
     "model_module": "@jupyter-widgets/controls",
     "model_module_version": "1.5.0",
     "model_name": "HTMLModel",
     "state": {
      "_dom_classes": [],
      "_model_module": "@jupyter-widgets/controls",
      "_model_module_version": "1.5.0",
      "_model_name": "HTMLModel",
      "_view_count": null,
      "_view_module": "@jupyter-widgets/controls",
      "_view_module_version": "1.5.0",
      "_view_name": "HTMLView",
      "description": "",
      "description_tooltip": null,
      "layout": "IPY_MODEL_2b3e5b0d4a614498a2893f43e3fb0788",
      "placeholder": "​",
      "style": "IPY_MODEL_280dc66a8c1a497bab17355146717d62",
      "value": " 5/5 [00:12&lt;00:00,  2.45s/it]"
     }
    },
    "2b3e5b0d4a614498a2893f43e3fb0788": {
     "model_module": "@jupyter-widgets/base",
     "model_module_version": "1.2.0",
     "model_name": "LayoutModel",
     "state": {
      "_model_module": "@jupyter-widgets/base",
      "_model_module_version": "1.2.0",
      "_model_name": "LayoutModel",
      "_view_count": null,
      "_view_module": "@jupyter-widgets/base",
      "_view_module_version": "1.2.0",
      "_view_name": "LayoutView",
      "align_content": null,
      "align_items": null,
      "align_self": null,
      "border": null,
      "bottom": null,
      "display": null,
      "flex": null,
      "flex_flow": null,
      "grid_area": null,
      "grid_auto_columns": null,
      "grid_auto_flow": null,
      "grid_auto_rows": null,
      "grid_column": null,
      "grid_gap": null,
      "grid_row": null,
      "grid_template_areas": null,
      "grid_template_columns": null,
      "grid_template_rows": null,
      "height": null,
      "justify_content": null,
      "justify_items": null,
      "left": null,
      "margin": null,
      "max_height": null,
      "max_width": null,
      "min_height": null,
      "min_width": null,
      "object_fit": null,
      "object_position": null,
      "order": null,
      "overflow": null,
      "overflow_x": null,
      "overflow_y": null,
      "padding": null,
      "right": null,
      "top": null,
      "visibility": null,
      "width": null
     }
    },
    "337acdd25f4b4d658b9f08e310774379": {
     "model_module": "@jupyter-widgets/controls",
     "model_module_version": "1.5.0",
     "model_name": "ProgressStyleModel",
     "state": {
      "_model_module": "@jupyter-widgets/controls",
      "_model_module_version": "1.5.0",
      "_model_name": "ProgressStyleModel",
      "_view_count": null,
      "_view_module": "@jupyter-widgets/base",
      "_view_module_version": "1.2.0",
      "_view_name": "StyleView",
      "bar_color": null,
      "description_width": ""
     }
    },
    "410557bd0aeb4ff79f205beb3ba6edd1": {
     "model_module": "@jupyter-widgets/base",
     "model_module_version": "1.2.0",
     "model_name": "LayoutModel",
     "state": {
      "_model_module": "@jupyter-widgets/base",
      "_model_module_version": "1.2.0",
      "_model_name": "LayoutModel",
      "_view_count": null,
      "_view_module": "@jupyter-widgets/base",
      "_view_module_version": "1.2.0",
      "_view_name": "LayoutView",
      "align_content": null,
      "align_items": null,
      "align_self": null,
      "border": null,
      "bottom": null,
      "display": null,
      "flex": null,
      "flex_flow": null,
      "grid_area": null,
      "grid_auto_columns": null,
      "grid_auto_flow": null,
      "grid_auto_rows": null,
      "grid_column": null,
      "grid_gap": null,
      "grid_row": null,
      "grid_template_areas": null,
      "grid_template_columns": null,
      "grid_template_rows": null,
      "height": null,
      "justify_content": null,
      "justify_items": null,
      "left": null,
      "margin": null,
      "max_height": null,
      "max_width": null,
      "min_height": null,
      "min_width": null,
      "object_fit": null,
      "object_position": null,
      "order": null,
      "overflow": null,
      "overflow_x": null,
      "overflow_y": null,
      "padding": null,
      "right": null,
      "top": null,
      "visibility": null,
      "width": null
     }
    },
    "58989990c6f5494099d46515fbd7979f": {
     "model_module": "@jupyter-widgets/controls",
     "model_module_version": "1.5.0",
     "model_name": "DescriptionStyleModel",
     "state": {
      "_model_module": "@jupyter-widgets/controls",
      "_model_module_version": "1.5.0",
      "_model_name": "DescriptionStyleModel",
      "_view_count": null,
      "_view_module": "@jupyter-widgets/base",
      "_view_module_version": "1.2.0",
      "_view_name": "StyleView",
      "description_width": ""
     }
    },
    "5c13879d8f344127b64af1aa7a4f8852": {
     "model_module": "@jupyter-widgets/base",
     "model_module_version": "1.2.0",
     "model_name": "LayoutModel",
     "state": {
      "_model_module": "@jupyter-widgets/base",
      "_model_module_version": "1.2.0",
      "_model_name": "LayoutModel",
      "_view_count": null,
      "_view_module": "@jupyter-widgets/base",
      "_view_module_version": "1.2.0",
      "_view_name": "LayoutView",
      "align_content": null,
      "align_items": null,
      "align_self": null,
      "border": null,
      "bottom": null,
      "display": null,
      "flex": null,
      "flex_flow": null,
      "grid_area": null,
      "grid_auto_columns": null,
      "grid_auto_flow": null,
      "grid_auto_rows": null,
      "grid_column": null,
      "grid_gap": null,
      "grid_row": null,
      "grid_template_areas": null,
      "grid_template_columns": null,
      "grid_template_rows": null,
      "height": null,
      "justify_content": null,
      "justify_items": null,
      "left": null,
      "margin": null,
      "max_height": null,
      "max_width": null,
      "min_height": null,
      "min_width": null,
      "object_fit": null,
      "object_position": null,
      "order": null,
      "overflow": null,
      "overflow_x": null,
      "overflow_y": null,
      "padding": null,
      "right": null,
      "top": null,
      "visibility": null,
      "width": null
     }
    },
    "88c66b03f74d4072a7ca2702cde5bab1": {
     "model_module": "@jupyter-widgets/controls",
     "model_module_version": "1.5.0",
     "model_name": "DescriptionStyleModel",
     "state": {
      "_model_module": "@jupyter-widgets/controls",
      "_model_module_version": "1.5.0",
      "_model_name": "DescriptionStyleModel",
      "_view_count": null,
      "_view_module": "@jupyter-widgets/base",
      "_view_module_version": "1.2.0",
      "_view_name": "StyleView",
      "description_width": ""
     }
    },
    "8b0cb06d8d194377a27bca9916691121": {
     "model_module": "@jupyter-widgets/controls",
     "model_module_version": "1.5.0",
     "model_name": "HTMLModel",
     "state": {
      "_dom_classes": [],
      "_model_module": "@jupyter-widgets/controls",
      "_model_module_version": "1.5.0",
      "_model_name": "HTMLModel",
      "_view_count": null,
      "_view_module": "@jupyter-widgets/controls",
      "_view_module_version": "1.5.0",
      "_view_name": "HTMLView",
      "description": "",
      "description_tooltip": null,
      "layout": "IPY_MODEL_0705feb3d82940b1a3f8beed2b483811",
      "placeholder": "​",
      "style": "IPY_MODEL_58989990c6f5494099d46515fbd7979f",
      "value": "100%"
     }
    },
    "8c776fa8a51545e781ce806d628899bb": {
     "model_module": "@jupyter-widgets/base",
     "model_module_version": "1.2.0",
     "model_name": "LayoutModel",
     "state": {
      "_model_module": "@jupyter-widgets/base",
      "_model_module_version": "1.2.0",
      "_model_name": "LayoutModel",
      "_view_count": null,
      "_view_module": "@jupyter-widgets/base",
      "_view_module_version": "1.2.0",
      "_view_name": "LayoutView",
      "align_content": null,
      "align_items": null,
      "align_self": null,
      "border": null,
      "bottom": null,
      "display": null,
      "flex": null,
      "flex_flow": null,
      "grid_area": null,
      "grid_auto_columns": null,
      "grid_auto_flow": null,
      "grid_auto_rows": null,
      "grid_column": null,
      "grid_gap": null,
      "grid_row": null,
      "grid_template_areas": null,
      "grid_template_columns": null,
      "grid_template_rows": null,
      "height": null,
      "justify_content": null,
      "justify_items": null,
      "left": null,
      "margin": null,
      "max_height": null,
      "max_width": null,
      "min_height": null,
      "min_width": null,
      "object_fit": null,
      "object_position": null,
      "order": null,
      "overflow": null,
      "overflow_x": null,
      "overflow_y": null,
      "padding": null,
      "right": null,
      "top": null,
      "visibility": null,
      "width": null
     }
    },
    "a23863abcd9244628dae9c2a1bc9993e": {
     "model_module": "@jupyter-widgets/controls",
     "model_module_version": "1.5.0",
     "model_name": "HTMLModel",
     "state": {
      "_dom_classes": [],
      "_model_module": "@jupyter-widgets/controls",
      "_model_module_version": "1.5.0",
      "_model_name": "HTMLModel",
      "_view_count": null,
      "_view_module": "@jupyter-widgets/controls",
      "_view_module_version": "1.5.0",
      "_view_name": "HTMLView",
      "description": "",
      "description_tooltip": null,
      "layout": "IPY_MODEL_c30c78865c1640d7af3df2d517a402d9",
      "placeholder": "​",
      "style": "IPY_MODEL_88c66b03f74d4072a7ca2702cde5bab1",
      "value": "100%"
     }
    },
    "a533bb16edec47e6b5d52c78e03b1ac2": {
     "model_module": "@jupyter-widgets/controls",
     "model_module_version": "1.5.0",
     "model_name": "ProgressStyleModel",
     "state": {
      "_model_module": "@jupyter-widgets/controls",
      "_model_module_version": "1.5.0",
      "_model_name": "ProgressStyleModel",
      "_view_count": null,
      "_view_module": "@jupyter-widgets/base",
      "_view_module_version": "1.2.0",
      "_view_name": "StyleView",
      "bar_color": null,
      "description_width": ""
     }
    },
    "a729afbe776649199cbe0a9607ea309f": {
     "model_module": "@jupyter-widgets/controls",
     "model_module_version": "1.5.0",
     "model_name": "DescriptionStyleModel",
     "state": {
      "_model_module": "@jupyter-widgets/controls",
      "_model_module_version": "1.5.0",
      "_model_name": "DescriptionStyleModel",
      "_view_count": null,
      "_view_module": "@jupyter-widgets/base",
      "_view_module_version": "1.2.0",
      "_view_name": "StyleView",
      "description_width": ""
     }
    },
    "b02ee32b9f1a4b6a9cbb9d3dd3b937ff": {
     "model_module": "@jupyter-widgets/controls",
     "model_module_version": "1.5.0",
     "model_name": "FloatProgressModel",
     "state": {
      "_dom_classes": [],
      "_model_module": "@jupyter-widgets/controls",
      "_model_module_version": "1.5.0",
      "_model_name": "FloatProgressModel",
      "_view_count": null,
      "_view_module": "@jupyter-widgets/controls",
      "_view_module_version": "1.5.0",
      "_view_name": "ProgressView",
      "bar_style": "success",
      "description": "",
      "description_tooltip": null,
      "layout": "IPY_MODEL_fed1fcc4a7b4411dac5ca7f03d2e2828",
      "max": 5,
      "min": 0,
      "orientation": "horizontal",
      "style": "IPY_MODEL_337acdd25f4b4d658b9f08e310774379",
      "value": 5
     }
    },
    "c30c78865c1640d7af3df2d517a402d9": {
     "model_module": "@jupyter-widgets/base",
     "model_module_version": "1.2.0",
     "model_name": "LayoutModel",
     "state": {
      "_model_module": "@jupyter-widgets/base",
      "_model_module_version": "1.2.0",
      "_model_name": "LayoutModel",
      "_view_count": null,
      "_view_module": "@jupyter-widgets/base",
      "_view_module_version": "1.2.0",
      "_view_name": "LayoutView",
      "align_content": null,
      "align_items": null,
      "align_self": null,
      "border": null,
      "bottom": null,
      "display": null,
      "flex": null,
      "flex_flow": null,
      "grid_area": null,
      "grid_auto_columns": null,
      "grid_auto_flow": null,
      "grid_auto_rows": null,
      "grid_column": null,
      "grid_gap": null,
      "grid_row": null,
      "grid_template_areas": null,
      "grid_template_columns": null,
      "grid_template_rows": null,
      "height": null,
      "justify_content": null,
      "justify_items": null,
      "left": null,
      "margin": null,
      "max_height": null,
      "max_width": null,
      "min_height": null,
      "min_width": null,
      "object_fit": null,
      "object_position": null,
      "order": null,
      "overflow": null,
      "overflow_x": null,
      "overflow_y": null,
      "padding": null,
      "right": null,
      "top": null,
      "visibility": null,
      "width": null
     }
    },
    "cd023e3749c846479b143064a2bcc373": {
     "model_module": "@jupyter-widgets/controls",
     "model_module_version": "1.5.0",
     "model_name": "HTMLModel",
     "state": {
      "_dom_classes": [],
      "_model_module": "@jupyter-widgets/controls",
      "_model_module_version": "1.5.0",
      "_model_name": "HTMLModel",
      "_view_count": null,
      "_view_module": "@jupyter-widgets/controls",
      "_view_module_version": "1.5.0",
      "_view_name": "HTMLView",
      "description": "",
      "description_tooltip": null,
      "layout": "IPY_MODEL_410557bd0aeb4ff79f205beb3ba6edd1",
      "placeholder": "​",
      "style": "IPY_MODEL_a729afbe776649199cbe0a9607ea309f",
      "value": " 50/50 [05:06&lt;00:00,  6.02s/it]"
     }
    },
    "e2ea1bbf08dd44dea383ff82ef761ae4": {
     "model_module": "@jupyter-widgets/base",
     "model_module_version": "1.2.0",
     "model_name": "LayoutModel",
     "state": {
      "_model_module": "@jupyter-widgets/base",
      "_model_module_version": "1.2.0",
      "_model_name": "LayoutModel",
      "_view_count": null,
      "_view_module": "@jupyter-widgets/base",
      "_view_module_version": "1.2.0",
      "_view_name": "LayoutView",
      "align_content": null,
      "align_items": null,
      "align_self": null,
      "border": null,
      "bottom": null,
      "display": null,
      "flex": null,
      "flex_flow": null,
      "grid_area": null,
      "grid_auto_columns": null,
      "grid_auto_flow": null,
      "grid_auto_rows": null,
      "grid_column": null,
      "grid_gap": null,
      "grid_row": null,
      "grid_template_areas": null,
      "grid_template_columns": null,
      "grid_template_rows": null,
      "height": null,
      "justify_content": null,
      "justify_items": null,
      "left": null,
      "margin": null,
      "max_height": null,
      "max_width": null,
      "min_height": null,
      "min_width": null,
      "object_fit": null,
      "object_position": null,
      "order": null,
      "overflow": null,
      "overflow_x": null,
      "overflow_y": null,
      "padding": null,
      "right": null,
      "top": null,
      "visibility": null,
      "width": null
     }
    },
    "f4a24e8bc8b24b0e9c6b8a1357a1361a": {
     "model_module": "@jupyter-widgets/controls",
     "model_module_version": "1.5.0",
     "model_name": "HBoxModel",
     "state": {
      "_dom_classes": [],
      "_model_module": "@jupyter-widgets/controls",
      "_model_module_version": "1.5.0",
      "_model_name": "HBoxModel",
      "_view_count": null,
      "_view_module": "@jupyter-widgets/controls",
      "_view_module_version": "1.5.0",
      "_view_name": "HBoxView",
      "box_style": "",
      "children": [
       "IPY_MODEL_8b0cb06d8d194377a27bca9916691121",
       "IPY_MODEL_1490f2bd27d843e098d74d9107d5d74a",
       "IPY_MODEL_cd023e3749c846479b143064a2bcc373"
      ],
      "layout": "IPY_MODEL_8c776fa8a51545e781ce806d628899bb"
     }
    },
    "fed1fcc4a7b4411dac5ca7f03d2e2828": {
     "model_module": "@jupyter-widgets/base",
     "model_module_version": "1.2.0",
     "model_name": "LayoutModel",
     "state": {
      "_model_module": "@jupyter-widgets/base",
      "_model_module_version": "1.2.0",
      "_model_name": "LayoutModel",
      "_view_count": null,
      "_view_module": "@jupyter-widgets/base",
      "_view_module_version": "1.2.0",
      "_view_name": "LayoutView",
      "align_content": null,
      "align_items": null,
      "align_self": null,
      "border": null,
      "bottom": null,
      "display": null,
      "flex": null,
      "flex_flow": null,
      "grid_area": null,
      "grid_auto_columns": null,
      "grid_auto_flow": null,
      "grid_auto_rows": null,
      "grid_column": null,
      "grid_gap": null,
      "grid_row": null,
      "grid_template_areas": null,
      "grid_template_columns": null,
      "grid_template_rows": null,
      "height": null,
      "justify_content": null,
      "justify_items": null,
      "left": null,
      "margin": null,
      "max_height": null,
      "max_width": null,
      "min_height": null,
      "min_width": null,
      "object_fit": null,
      "object_position": null,
      "order": null,
      "overflow": null,
      "overflow_x": null,
      "overflow_y": null,
      "padding": null,
      "right": null,
      "top": null,
      "visibility": null,
      "width": null
     }
    }
   }
  }
 },
 "nbformat": 4,
 "nbformat_minor": 1
}
