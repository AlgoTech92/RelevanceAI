{
 "cells": [
  {
   "cell_type": "code",
   "execution_count": 6,
   "metadata": {
    "scrolled": false
   },
   "outputs": [
    {
     "name": "stdout",
     "output_type": "stream",
     "text": [
      "The autoreload extension is already loaded. To reload it, use:\n",
      "  %reload_ext autoreload\n",
      "2021-11-05 01:50:57.882 | SUCCESS  | vecdb.transport:make_http_request:66 - Response success! (https://api-aueast.relevance.ai/v1/datasets/ecommerce-6/documents/list)\n",
      "2021-11-05 01:51:21.339 | SUCCESS  | vecdb.transport:make_http_request:66 - Response success! (https://api-aueast.relevance.ai/v1/datasets/ecommerce-6/documents/list)\n",
      "Building KNN index\n"
     ]
    },
    {
     "name": "stderr",
     "output_type": "stream",
     "text": [
      "100%|███████████████████████████████████████████████████████| 1000/1000 [00:01<00:00, 889.96it/s]\n"
     ]
    },
    {
     "name": "stdout",
     "output_type": "stream",
     "text": [
      "Extracting KNN neighbours\n"
     ]
    },
    {
     "name": "stderr",
     "output_type": "stream",
     "text": [
      "100%|███████████████████████████████████████████████████████| 1000/1000 [00:01<00:00, 683.11it/s]\n"
     ]
    },
    {
     "name": "stdout",
     "output_type": "stream",
     "text": [
      "Training neural network\n",
      "Epoch 1/1000\n",
      "8/8 [==============================] - 22s 832ms/step - loss: 1.2646\n",
      "Epoch 2/1000\n",
      "8/8 [==============================] - 7s 816ms/step - loss: 1.0777\n",
      "Epoch 3/1000\n",
      "8/8 [==============================] - 12s 1s/step - loss: 0.6289\n",
      "Epoch 4/1000\n",
      "8/8 [==============================] - 9s 1s/step - loss: 0.5315\n",
      "Epoch 5/1000\n",
      "8/8 [==============================] - 14s 2s/step - loss: 0.3724\n",
      "Epoch 6/1000\n",
      "8/8 [==============================] - 9s 1s/step - loss: 0.3679\n",
      "Epoch 7/1000\n",
      "8/8 [==============================] - 8s 979ms/step - loss: 0.3775\n",
      "Epoch 8/1000\n",
      "8/8 [==============================] - 9s 1s/step - loss: 0.3370\n",
      "Epoch 9/1000\n",
      "8/8 [==============================] - 8s 1s/step - loss: 0.2180\n",
      "Epoch 10/1000\n",
      "8/8 [==============================] - 8s 846ms/step - loss: 0.2328\n",
      "Epoch 11/1000\n",
      "8/8 [==============================] - 7s 888ms/step - loss: 0.2404\n",
      "8/8 [==============================] - 1s 107ms/step\n",
      "Init: initializing centroids\n",
      "Init: initializing clusters\n",
      "Starting iterations...\n",
      "Run 1, iteration: 1/100, moves: 0, cost: 2952.0\n",
      "Init: initializing centroids\n",
      "Init: initializing clusters\n",
      "Starting iterations...\n",
      "Run 2, iteration: 1/100, moves: 0, cost: 2955.0\n",
      "Init: initializing centroids\n",
      "Init: initializing clusters\n",
      "Starting iterations...\n",
      "Run 3, iteration: 1/100, moves: 0, cost: 2958.0\n",
      "Init: initializing centroids\n",
      "Init: initializing clusters\n",
      "Starting iterations...\n",
      "Run 4, iteration: 1/100, moves: 0, cost: 2961.0\n",
      "Init: initializing centroids\n",
      "Init: initializing clusters\n",
      "Starting iterations...\n",
      "Run 5, iteration: 1/100, moves: 0, cost: 2955.0\n",
      "Best run was number 1\n"
     ]
    },
    {
     "ename": "AttributeError",
     "evalue": "'str' object has no attribute 'cluster_centroids_'",
     "output_type": "error",
     "traceback": [
      "\u001b[0;31m---------------------------------------------------------------------------\u001b[0m",
      "\u001b[0;31mAttributeError\u001b[0m                            Traceback (most recent call last)",
      "\u001b[0;32m/tmp/ipykernel_9519/699000625.py\u001b[0m in \u001b[0;36m<module>\u001b[0;34m\u001b[0m\n\u001b[1;32m     23\u001b[0m             \u001b[0;34m\"n_epochs_without_progress\"\u001b[0m\u001b[0;34m:\u001b[0m \u001b[0;36m2\u001b[0m\u001b[0;34m\u001b[0m\u001b[0;34m\u001b[0m\u001b[0m\n\u001b[1;32m     24\u001b[0m             }\n\u001b[0;32m---> 25\u001b[0;31m vi.services.projection.generate(\n\u001b[0m\u001b[1;32m     26\u001b[0m                 \u001b[0mdataset_id\u001b[0m\u001b[0;34m=\u001b[0m\u001b[0mdataset_id\u001b[0m\u001b[0;34m,\u001b[0m\u001b[0;34m\u001b[0m\u001b[0;34m\u001b[0m\u001b[0m\n\u001b[1;32m     27\u001b[0m                 \u001b[0mlabel\u001b[0m\u001b[0;34m=\u001b[0m\u001b[0mlabel\u001b[0m\u001b[0;34m,\u001b[0m\u001b[0;34m\u001b[0m\u001b[0;34m\u001b[0m\u001b[0m\n",
      "\u001b[0;32m~/code/vecdb/vecdb/vis/projection.py\u001b[0m in \u001b[0;36mgenerate\u001b[0;34m(self, dataset_id, label, vector_field, point_label, hover_label, dr, dr_args, cluster, cluster_args, legend)\u001b[0m\n\u001b[1;32m    269\u001b[0m         \u001b[0mself\u001b[0m\u001b[0;34m.\u001b[0m\u001b[0membedding_df\u001b[0m \u001b[0;34m=\u001b[0m \u001b[0mpd\u001b[0m\u001b[0;34m.\u001b[0m\u001b[0mDataFrame\u001b[0m\u001b[0;34m(\u001b[0m\u001b[0mdata\u001b[0m\u001b[0;34m)\u001b[0m\u001b[0;34m\u001b[0m\u001b[0;34m\u001b[0m\u001b[0m\n\u001b[1;32m    270\u001b[0m \u001b[0;34m\u001b[0m\u001b[0m\n\u001b[0;32m--> 271\u001b[0;31m         \u001b[0;32mif\u001b[0m \u001b[0mcluster\u001b[0m\u001b[0;34m:\u001b[0m\u001b[0;34m\u001b[0m\u001b[0;34m\u001b[0m\u001b[0m\n\u001b[0m\u001b[1;32m    272\u001b[0m             self.c_labels, self.c_centroids = self._cluster(\n\u001b[1;32m    273\u001b[0m                     \u001b[0mvectors\u001b[0m\u001b[0;34m=\u001b[0m\u001b[0mself\u001b[0m\u001b[0;34m.\u001b[0m\u001b[0mvectors_dr\u001b[0m\u001b[0;34m,\u001b[0m \u001b[0mcluster\u001b[0m\u001b[0;34m=\u001b[0m\u001b[0mcluster\u001b[0m\u001b[0;34m,\u001b[0m \u001b[0mcluster_args\u001b[0m\u001b[0;34m=\u001b[0m\u001b[0mcluster_args\u001b[0m\u001b[0;34m\u001b[0m\u001b[0;34m\u001b[0m\u001b[0m\n",
      "\u001b[0;32m~/code/vecdb/vecdb/vis/projection.py\u001b[0m in \u001b[0;36m_cluster\u001b[0;34m(vectors, cluster, cluster_args)\u001b[0m\n\u001b[1;32m    193\u001b[0m                 }\n\u001b[1;32m    194\u001b[0m             \u001b[0mc_labels\u001b[0m \u001b[0;34m=\u001b[0m \u001b[0mKModes\u001b[0m\u001b[0;34m(\u001b[0m\u001b[0;34m**\u001b[0m\u001b[0mcluster_args\u001b[0m\u001b[0;34m)\u001b[0m\u001b[0;34m.\u001b[0m\u001b[0mfit_predict\u001b[0m\u001b[0;34m(\u001b[0m\u001b[0mvectors\u001b[0m\u001b[0;34m)\u001b[0m\u001b[0;34m\u001b[0m\u001b[0;34m\u001b[0m\u001b[0m\n\u001b[0;32m--> 195\u001b[0;31m             \u001b[0mcluster_centroids\u001b[0m \u001b[0;34m=\u001b[0m \u001b[0mcluster\u001b[0m\u001b[0;34m.\u001b[0m\u001b[0mcluster_centroids_\u001b[0m\u001b[0;34m\u001b[0m\u001b[0;34m\u001b[0m\u001b[0m\n\u001b[0m\u001b[1;32m    196\u001b[0m \u001b[0;34m\u001b[0m\u001b[0m\n\u001b[1;32m    197\u001b[0m         \u001b[0mc_labels\u001b[0m \u001b[0;34m=\u001b[0m \u001b[0;34m[\u001b[0m \u001b[0;34mf'c_{c}'\u001b[0m \u001b[0;32mfor\u001b[0m \u001b[0mc\u001b[0m \u001b[0;32min\u001b[0m \u001b[0mc_labels\u001b[0m \u001b[0;34m]\u001b[0m\u001b[0;34m\u001b[0m\u001b[0;34m\u001b[0m\u001b[0m\n",
      "\u001b[0;31mAttributeError\u001b[0m: 'str' object has no attribute 'cluster_centroids_'"
     ]
    }
   ],
   "source": [
    "%load_ext autoreload\n",
    "%autoreload 2\n",
    "\n",
    "import sys\n",
    "sys.path.append('..')\n",
    "\n",
    "\n",
    "from vecdb.http_client import VecDBClient\n",
    "\n",
    "dataset_id = \"ecommerce-6\"\n",
    "project = \"dummy-collections\"\n",
    "api_key = \"UzdYRktIY0JxNmlvb1NpOFNsenU6VGdTU0s4UjhUR0NsaDdnQTVwUkpKZw\"  # Read access\n",
    "base_url = \"https://api-aueast.relevance.ai/v1/\"\n",
    "\n",
    "label = \"product_name\"\n",
    "vector_field = \"product_name_imagetext_vector_\"\n",
    "\n",
    "vi = VecDBClient(project, api_key, base_url=base_url)\n",
    "dr_args =  {\n",
    "            \"k\": 15, \n",
    "            \"model\": \"maaten\", \n",
    "            \"n_epochs_without_progress\": 2\n",
    "            }\n",
    "vi.services.projection.generate(\n",
    "                dataset_id=dataset_id, \n",
    "                label=label, \n",
    "                cluster='kmodes',\n",
    "                legend = 'c_labels',\n",
    "                vector_field=vector_field,\n",
    "                dr='ivis',\n",
    "                dr_args=dr_args\n",
    "            )\n"
   ]
  },
  {
   "cell_type": "code",
   "execution_count": null,
   "metadata": {},
   "outputs": [],
   "source": []
  }
 ],
 "metadata": {
  "interpreter": {
   "hash": "df0893f56f349688326838aaeea0de204df53a132722cbd565e54b24a8fec5f6"
  },
  "kernelspec": {
   "display_name": "Python 3 (ipykernel)",
   "language": "python",
   "name": "python3"
  },
  "language_info": {
   "codemirror_mode": {
    "name": "ipython",
    "version": 3
   },
   "file_extension": ".py",
   "mimetype": "text/x-python",
   "name": "python",
   "nbconvert_exporter": "python",
   "pygments_lexer": "ipython3",
   "version": "3.8.0"
  }
 },
 "nbformat": 4,
 "nbformat_minor": 2
}
