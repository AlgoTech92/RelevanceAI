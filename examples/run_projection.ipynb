{
 "cells": [
  {
   "cell_type": "code",
   "execution_count": 3,
   "metadata": {
    "scrolled": false
   },
   "outputs": [
    {
     "name": "stdout",
     "output_type": "stream",
     "text": [
      "The autoreload extension is already loaded. To reload it, use:\n",
      "  %reload_ext autoreload\n",
      "2021-11-05 04:40:22.487 | SUCCESS  | vecdb.http_client:__init__:42 - Welcome to the development version of the VecDB Python SDK. Please do not use this SDK to build core systems yet until we have a stable version.\n",
      "2021-11-05 04:40:34.449 | SUCCESS  | vecdb.transport:make_http_request:63 - Response success! (https://api-aueast.relevance.ai/v1/datasets/ecommerce-6/documents/list)\n",
      "2021-11-05 04:40:54.338 | SUCCESS  | vecdb.transport:make_http_request:63 - Response success! (https://api-aueast.relevance.ai/v1/datasets/ecommerce-6/documents/list)\n"
     ]
    },
    {
     "ename": "AttributeError",
     "evalue": "'Projection' object has no attribute 'metadat_df'",
     "output_type": "error",
     "traceback": [
      "\u001b[0;31m---------------------------------------------------------------------------\u001b[0m",
      "\u001b[0;31mAttributeError\u001b[0m                            Traceback (most recent call last)",
      "\u001b[0;32m/tmp/ipykernel_11661/2520381603.py\u001b[0m in \u001b[0;36m<module>\u001b[0;34m\u001b[0m\n\u001b[1;32m     30\u001b[0m             \u001b[0;34m\"random_state\"\u001b[0m\u001b[0;34m:\u001b[0m \u001b[0;36m42\u001b[0m\u001b[0;34m,\u001b[0m\u001b[0;34m\u001b[0m\u001b[0;34m\u001b[0m\u001b[0m\n\u001b[1;32m     31\u001b[0m         }\n\u001b[0;32m---> 32\u001b[0;31m vi.services.projection.generate(\n\u001b[0m\u001b[1;32m     33\u001b[0m                 \u001b[0mdataset_id\u001b[0m \u001b[0;34m=\u001b[0m \u001b[0mdataset_id\u001b[0m\u001b[0;34m,\u001b[0m\u001b[0;34m\u001b[0m\u001b[0;34m\u001b[0m\u001b[0m\n\u001b[1;32m     34\u001b[0m                 \u001b[0mlabel\u001b[0m \u001b[0;34m=\u001b[0m \u001b[0mlabel\u001b[0m\u001b[0;34m,\u001b[0m\u001b[0;34m\u001b[0m\u001b[0;34m\u001b[0m\u001b[0m\n",
      "\u001b[0;32m~/code/vecdb/vecdb/vis/projection.py\u001b[0m in \u001b[0;36mgenerate\u001b[0;34m(self, dataset_id, label, vector_field, point_label, hover_label, dr, dr_args, cluster, cluster_args, legend)\u001b[0m\n\u001b[1;32m    263\u001b[0m         \"\"\"\n\u001b[1;32m    264\u001b[0m         \u001b[0mself\u001b[0m\u001b[0;34m.\u001b[0m\u001b[0mdataset_id\u001b[0m \u001b[0;34m=\u001b[0m \u001b[0mdataset_id\u001b[0m\u001b[0;34m\u001b[0m\u001b[0;34m\u001b[0m\u001b[0m\n\u001b[0;32m--> 265\u001b[0;31m         \u001b[0mself\u001b[0m\u001b[0;34m.\u001b[0m\u001b[0mdocuments\u001b[0m \u001b[0;34m=\u001b[0m \u001b[0mself\u001b[0m\u001b[0;34m.\u001b[0m\u001b[0m_retrieve_documents\u001b[0m\u001b[0;34m(\u001b[0m\u001b[0mdataset_id\u001b[0m\u001b[0;34m)\u001b[0m\u001b[0;34m\u001b[0m\u001b[0;34m\u001b[0m\u001b[0m\n\u001b[0m\u001b[1;32m    266\u001b[0m \u001b[0;34m\u001b[0m\u001b[0m\n\u001b[1;32m    267\u001b[0m         vectors, labels, _labels = self._prepare_vector_labels(\n",
      "\u001b[0;32m~/code/vecdb/vecdb/vis/projection.py\u001b[0m in \u001b[0;36m_retrieve_documents\u001b[0;34m(self, dataset_id, number_of_documents, page_size)\u001b[0m\n\u001b[1;32m     85\u001b[0m                                 ]\n\u001b[1;32m     86\u001b[0m         \u001b[0mself\u001b[0m\u001b[0;34m.\u001b[0m\u001b[0mmetadata_df\u001b[0m \u001b[0;34m=\u001b[0m  \u001b[0mself\u001b[0m\u001b[0;34m.\u001b[0m\u001b[0mdocuments_df\u001b[0m\u001b[0;34m[\u001b[0m\u001b[0mmetadata_cols\u001b[0m\u001b[0;34m]\u001b[0m\u001b[0;34m\u001b[0m\u001b[0;34m\u001b[0m\u001b[0m\n\u001b[0;32m---> 87\u001b[0;31m         \u001b[0mprint\u001b[0m\u001b[0;34m(\u001b[0m\u001b[0mself\u001b[0m\u001b[0;34m.\u001b[0m\u001b[0mmetadat_df\u001b[0m\u001b[0;34m)\u001b[0m\u001b[0;34m\u001b[0m\u001b[0;34m\u001b[0m\u001b[0m\n\u001b[0m\u001b[1;32m     88\u001b[0m         \u001b[0;32mreturn\u001b[0m \u001b[0mdata\u001b[0m\u001b[0;34m\u001b[0m\u001b[0;34m\u001b[0m\u001b[0m\n\u001b[1;32m     89\u001b[0m \u001b[0;34m\u001b[0m\u001b[0m\n",
      "\u001b[0;31mAttributeError\u001b[0m: 'Projection' object has no attribute 'metadat_df'"
     ]
    }
   ],
   "source": [
    "%load_ext autoreload\n",
    "%autoreload 2\n",
    "\n",
    "import sys\n",
    "sys.path.append('..')\n",
    "\n",
    "from vecdb.http_client import VecDBClient\n",
    "\n",
    "dataset_id = \"ecommerce-6\"\n",
    "project = \"dummy-collections\"\n",
    "api_key = \"UzdYRktIY0JxNmlvb1NpOFNsenU6VGdTU0s4UjhUR0NsaDdnQTVwUkpKZw\"  # Read access\n",
    "base_url = \"https://api-aueast.relevance.ai/v1/\"\n",
    "\n",
    "label = \"product_name\"\n",
    "vector_field = \"product_name_imagetext_vector_\"\n",
    "\n",
    "vi = VecDBClient(project, api_key, base_url=base_url)\n",
    "\n",
    "dr_args =  {\n",
    "            \"k\": 15, \n",
    "            \"model\": \"maaten\", \n",
    "            \"n_epochs_without_progress\": 2\n",
    "            }\n",
    "\n",
    "cluster_args = {\n",
    "            \"n_clusters\": 10, \n",
    "            \"init\": \"Cao\", \n",
    "            \"n_init\": 5, \n",
    "            \"verbose\": 1,\n",
    "            \"random_state\": 42,\n",
    "        }\n",
    "vi.services.projection.generate(\n",
    "                dataset_id = dataset_id, \n",
    "                label = label, \n",
    "                vector_field = vector_field,\n",
    "                dr = 'ivis',\n",
    "                dr_args = dr_args,\n",
    "                cluster = 'kmodes',\n",
    "                cluster_args = cluster_args,\n",
    "                legend = 'c_labels',\n",
    "                point_label = False,\n",
    "                hover_label = ['product_name'],\n",
    "                \n",
    "            )\n"
   ]
  },
  {
   "cell_type": "code",
   "execution_count": null,
   "metadata": {},
   "outputs": [],
   "source": []
  }
 ],
 "metadata": {
  "interpreter": {
   "hash": "df0893f56f349688326838aaeea0de204df53a132722cbd565e54b24a8fec5f6"
  },
  "kernelspec": {
   "display_name": "Python 3 (ipykernel)",
   "language": "python",
   "name": "python3"
  },
  "language_info": {
   "codemirror_mode": {
    "name": "ipython",
    "version": 3
   },
   "file_extension": ".py",
   "mimetype": "text/x-python",
   "name": "python",
   "nbconvert_exporter": "python",
   "pygments_lexer": "ipython3",
   "version": "3.8.0"
  }
 },
 "nbformat": 4,
 "nbformat_minor": 2
}
