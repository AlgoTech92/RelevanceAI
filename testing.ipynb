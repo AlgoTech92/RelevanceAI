{
 "cells": [
  {
   "cell_type": "code",
   "execution_count": 1,
   "metadata": {},
   "outputs": [
    {
     "name": "stderr",
     "output_type": "stream",
     "text": [
      "C:\\Users\\zhufe\\anaconda3\\lib\\site-packages\\numpy\\_distributor_init.py:30: UserWarning: loaded more than 1 DLL from .libs:\n",
      "C:\\Users\\zhufe\\anaconda3\\lib\\site-packages\\numpy\\.libs\\libopenblas.WCDJNK7YVMPZQ2ME2ZZHJJRJ3JIKNDB7.gfortran-win_amd64.dll\n",
      "C:\\Users\\zhufe\\anaconda3\\lib\\site-packages\\numpy\\.libs\\libopenblas.XWYDX2IKJW2NMTWSFYNGFUWKQU3LYTCZ.gfortran-win_amd64.dll\n",
      "  warnings.warn(\"loaded more than 1 DLL from .libs:\"\n",
      "2021-10-16 17:27:47.385 | INFO     | vecdb.http_client:__init__:23 - Welcome to the development version of the VecDB Python SDK. Please do not use this SDK to build core systems yet until we have a stable version.\n"
     ]
    }
   ],
   "source": [
    "from vecdb import VecDBClient\n",
    "#PUT IN LOGIN DETAILS"
   ]
  },
  {
   "cell_type": "code",
   "execution_count": 2,
   "metadata": {},
   "outputs": [],
   "source": [
    "def even_function(data):\n",
    "    for i in data:\n",
    "        if int(i['test']) % 2 == 0:\n",
    "            i['even'] = True\n",
    "        else:\n",
    "            i['even'] = False\n",
    "    return data"
   ]
  },
  {
   "cell_type": "code",
   "execution_count": 3,
   "metadata": {},
   "outputs": [
    {
     "name": "stderr",
     "output_type": "stream",
     "text": [
      "2021-10-16 17:27:47.435 | INFO     | vecdb.transport:make_http_request:38 - URL you are trying to access:https://api-dev-aueast.relevance.ai/v1/datasets/delete\n",
      "2021-10-16 17:27:48.034 | INFO     | vecdb.transport:make_http_request:52 - Response success!\n",
      "2021-10-16 17:27:48.035 | INFO     | vecdb.transport:make_http_request:38 - URL you are trying to access:https://api-dev-aueast.relevance.ai/v1/datasets/delete\n",
      "2021-10-16 17:27:48.945 | INFO     | vecdb.transport:make_http_request:52 - Response success!\n",
      "2021-10-16 17:27:48.945 | INFO     | vecdb.transport:make_http_request:38 - URL you are trying to access:https://ingest-api-dev-aueast.relevance.ai/latest/datasets/test_dataset/documents/bulk_insert\n",
      "2021-10-16 17:27:51.622 | INFO     | vecdb.transport:make_http_request:52 - Response success!\n"
     ]
    }
   ],
   "source": [
    "original_collection = 'test_dataset'\n",
    "logging_collection = 'test_logger'\n",
    "vec_client.datasets.delete(original_collection)\n",
    "vec_client.datasets.delete(logging_collection)\n",
    "data = [{'_id': i, 'test': i} for i in range(200)]\n",
    "vec_client.datasets.bulk_insert(original_collection, data)\n",
    "filters = [{'field' : 'test', 'filter_type' : 'numeric', \"condition\":\">=\", \"condition_value\":50}]"
   ]
  },
  {
   "cell_type": "code",
   "execution_count": 4,
   "metadata": {},
   "outputs": [
    {
     "name": "stderr",
     "output_type": "stream",
     "text": [
      "2021-10-16 17:27:52.862 | INFO     | vecdb.batch.batch_insert:pull_update_push:135 - Creating a logging collection for you.\n",
      "2021-10-16 17:27:52.863 | INFO     | vecdb.transport:make_http_request:38 - URL you are trying to access:https://api-dev-aueast.relevance.ai/v1/datasets/create\n",
      "2021-10-16 17:27:57.475 | INFO     | vecdb.transport:make_http_request:52 - Response success!\n",
      "2021-10-16 17:27:57.476 | INFO     | vecdb.batch.batch_insert:pull_update_push:136 - {'status': 'complete', 'message': 'test_logger created'}\n",
      "2021-10-16 17:27:57.476 | INFO     | vecdb.transport:make_http_request:38 - URL you are trying to access:https://api-dev-aueast.relevance.ai/v1/datasets/test_dataset/documents/get_where\n",
      "2021-10-16 17:27:58.617 | INFO     | vecdb.transport:make_http_request:52 - Response success!\n",
      "2021-10-16 17:27:58.617 | INFO     | vecdb.transport:make_http_request:38 - URL you are trying to access:https://api-dev-aueast.relevance.ai/v1/datasets/test_logger/documents/get_where\n",
      "2021-10-16 17:27:59.776 | INFO     | vecdb.transport:make_http_request:52 - Response success!\n",
      "2021-10-16 17:27:59.777 | INFO     | vecdb.batch.batch_insert:pull_update_push:152 - original_length=150\n",
      "2021-10-16 17:27:59.777 | INFO     | vecdb.batch.batch_insert:pull_update_push:153 - completed_length=0\n",
      "2021-10-16 17:27:59.777 | INFO     | vecdb.batch.batch_insert:pull_update_push:154 - iterations_required=2\n"
     ]
    },
    {
     "data": {
      "application/vnd.jupyter.widget-view+json": {
       "model_id": "e3758e6a48324e0bad472b114add2dfa",
       "version_major": 2,
       "version_minor": 0
      },
      "text/plain": [
       "  0%|          | 0/2 [00:00<?, ?it/s]"
      ]
     },
     "metadata": {},
     "output_type": "display_data"
    },
    {
     "name": "stderr",
     "output_type": "stream",
     "text": [
      "2021-10-16 17:27:59.828 | INFO     | vecdb.transport:make_http_request:38 - URL you are trying to access:https://api-dev-aueast.relevance.ai/v1/datasets/test_logger/documents/get_where\n",
      "2021-10-16 17:27:59.960 | INFO     | vecdb.transport:make_http_request:52 - Response success!\n",
      "2021-10-16 17:27:59.961 | INFO     | vecdb.transport:make_http_request:38 - URL you are trying to access:https://api-dev-aueast.relevance.ai/v1/datasets/test_dataset/documents/get_where\n",
      "2021-10-16 17:28:01.132 | INFO     | vecdb.transport:make_http_request:52 - Response success!\n",
      "2021-10-16 17:28:01.133 | INFO     | vecdb.batch.batch_insert:pull_update_push:183 - len(documents)=100\n",
      "2021-10-16 17:28:01.133 | INFO     | vecdb.batch.batch_insert:pull_update_push:193 - len(updated_data)=100\n",
      "2021-10-16 17:28:01.133 | INFO     | vecdb.batch.batch_insert:update_documents:66 - You are currently updating test_dataset\n",
      "2021-10-16 17:28:01.134 | INFO     | vecdb.batch.batch_insert:update_documents:67 - You can track your stats and progress via our dashboard at https://cloud.relevance.ai/collections/dashboard/stats/?collection=test_dataset\n",
      "2021-10-16 17:28:01.134 | INFO     | vecdb.transport:make_http_request:38 - URL you are trying to access:https://ingest-api-dev-aueast.relevance.ai/latest/datasets/test_dataset/documents/bulk_update\n",
      "2021-10-16 17:28:02.289 | INFO     | vecdb.transport:make_http_request:52 - Response success!\n",
      "2021-10-16 17:28:02.289 | INFO     | vecdb.batch.batch_insert:pull_update_push:206 - Chunk of 100 original documents updated and uploaded with 0 failed documents!\n",
      "2021-10-16 17:28:03.943 | INFO     | vecdb.transport:make_http_request:38 - URL you are trying to access:https://api-dev-aueast.relevance.ai/v1/datasets/test_logger/documents/get_where\n",
      "2021-10-16 17:28:04.070 | INFO     | vecdb.transport:make_http_request:52 - Response success!\n",
      "2021-10-16 17:28:04.071 | INFO     | vecdb.transport:make_http_request:38 - URL you are trying to access:https://api-dev-aueast.relevance.ai/v1/datasets/test_logger/documents/get_where\n",
      "2021-10-16 17:28:04.204 | INFO     | vecdb.transport:make_http_request:52 - Response success!\n",
      "2021-10-16 17:28:04.204 | INFO     | vecdb.transport:make_http_request:38 - URL you are trying to access:https://api-dev-aueast.relevance.ai/v1/datasets/test_dataset/documents/get_where\n",
      "2021-10-16 17:28:04.335 | INFO     | vecdb.transport:make_http_request:52 - Response success!\n"
     ]
    }
   ],
   "source": [
    "x = vec_client.pull_update_push(original_collection, even_function, logging_collection = logging_collection, filters= filters)"
   ]
  },
  {
   "cell_type": "code",
   "execution_count": 5,
   "metadata": {},
   "outputs": [
    {
     "name": "stderr",
     "output_type": "stream",
     "text": [
      "2021-10-16 17:28:04.358 | INFO     | vecdb.transport:make_http_request:38 - URL you are trying to access:https://api-dev-aueast.relevance.ai/v1/datasets/test_logger/documents/get_where\n",
      "2021-10-16 17:28:04.485 | INFO     | vecdb.transport:make_http_request:52 - Response success!\n",
      "2021-10-16 17:28:04.486 | INFO     | vecdb.transport:make_http_request:38 - URL you are trying to access:https://api-dev-aueast.relevance.ai/v1/datasets/test_logger/documents/get_where\n",
      "2021-10-16 17:28:04.641 | INFO     | vecdb.transport:make_http_request:52 - Response success!\n"
     ]
    }
   ],
   "source": [
    "y = vec_client.datasets.documents.get_where_all(logging_collection)"
   ]
  },
  {
   "cell_type": "code",
   "execution_count": 8,
   "metadata": {},
   "outputs": [
    {
     "data": {
      "text/plain": [
       "50"
      ]
     },
     "execution_count": 8,
     "metadata": {},
     "output_type": "execute_result"
    }
   ],
   "source": [
    "len(x)"
   ]
  }
 ],
 "metadata": {
  "interpreter": {
   "hash": "9e497309b2e29b67407d5b1f6cdea23339af8da14453d83d69b21652e7d24f16"
  },
  "kernelspec": {
   "display_name": "Python 3.8.5 64-bit ('base': conda)",
   "name": "python3"
  },
  "language_info": {
   "codemirror_mode": {
    "name": "ipython",
    "version": 3
   },
   "file_extension": ".py",
   "mimetype": "text/x-python",
   "name": "python",
   "nbconvert_exporter": "python",
   "pygments_lexer": "ipython3",
   "version": "3.8.5"
  },
  "orig_nbformat": 4
 },
 "nbformat": 4,
 "nbformat_minor": 2
}
